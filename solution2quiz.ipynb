{
 "cells": [
  {
   "cell_type": "code",
   "execution_count": 2,
   "metadata": {},
   "outputs": [
    {
     "name": "stdout",
     "output_type": "stream",
     "text": [
      "00 베이스.pptx\r\n",
      "01장 파이썬이란 무엇인가.pptx\r\n",
      "02장 자료형과 자료구조.pptx\r\n",
      "03장 프로그램의 구조를 쌓는다_제어문.pptx\r\n",
      "03장_실습(Sol).ipynb\r\n",
      "04장 프로그램의 입력과 출력은 어떻게 해야 할까.pptx\r\n",
      "06장 파이썬 프로그래밍 어떻게 시작해야 할까.pptx\r\n",
      "README.md\r\n",
      "solution2quiz.ipynb\r\n",
      "수정사항.txt\r\n",
      "학습계획서(작업).md\r\n",
      "학습계획서.md\r\n"
     ]
    }
   ],
   "source": [
    "!ls"
   ]
  },
  {
   "cell_type": "code",
   "execution_count": 1,
   "metadata": {},
   "outputs": [],
   "source": [
    "# 작업할 파일명\n",
    "sol_file = '03장_실습(Sol).ipynb'"
   ]
  },
  {
   "cell_type": "code",
   "execution_count": 2,
   "metadata": {},
   "outputs": [],
   "source": [
    "import json\n",
    "\n",
    "with open(sol_file, 'r') as f:\n",
    "    data = f.read()\n",
    "\n",
    "data_json = json.loads(data)"
   ]
  },
  {
   "cell_type": "code",
   "execution_count": 20,
   "metadata": {},
   "outputs": [
    {
     "data": {
      "text/plain": [
       "[{'cell_type': 'markdown',\n",
       "  'metadata': {},\n",
       "  'source': ['# [03장 프로그램의 구조를 쌓는다 : 제어문] 실습 솔루션\\n',\n",
       "   '<br>\\n',\n",
       "   '\\n',\n",
       "   '## 간단한 설띵\\n',\n",
       "   '\\n',\n",
       "   '- 문제 번호 옆에 ◆ 표시가 있으면 배우지 않은 내용이 등장하니 조금만 생각해보고 빨리 솔루션 보시는 걸 추천합니다.\\n',\n",
       "   '- 문제 번호 옆에 ★ 표시가 있으면 어려운 문제지만 풀 수 있습니다. 고민해보세요!\\n',\n",
       "   '- 문제 번호 옆에 ★★ 표시가 있으면 아주 어려운 문제입니다. 시간은 오래걸리지만 실력 향상에 아주 큰 도움이 됩니다.\\n',\n",
       "   '- 문제 푸는 순서는 상관 없습니다. 알아서 푸세요.']},\n",
       " {'cell_type': 'markdown',\n",
       "  'metadata': {},\n",
       "  'source': ['# 시험 성적\\n',\n",
       "   '시험 점수($0 \\\\le N \\\\le 100$)을 입력받아 90 ~ 100점은 A, 80 ~ 89점은 B, 70 ~ 79점은 C, 60 ~ 69점은 D, 나머지 점수는 F를 출력하는 코드를 작성하여라.  \\n',\n",
       "   '<br>\\n',\n",
       "   '\\n',\n",
       "   '### hint\\n',\n",
       "   '- `if` / `elif` / `else`를 이용해보자!']},\n",
       " {'cell_type': 'raw',\n",
       "  'metadata': {},\n",
       "  'source': ['# test1\\n',\n",
       "   'score : 70\\n',\n",
       "   'C\\n',\n",
       "   '\\n',\n",
       "   '# test2\\n',\n",
       "   'score : 100\\n',\n",
       "   'A']}]"
      ]
     },
     "execution_count": 20,
     "metadata": {},
     "output_type": "execute_result"
    }
   ],
   "source": [
    "data_json['cells'][:3]"
   ]
  },
  {
   "cell_type": "code",
   "execution_count": 3,
   "metadata": {},
   "outputs": [],
   "source": [
    "for cell in data_json['cells']:\n",
    "    if cell['cell_type'] == 'code' and 'Sol' in cell['source'][0]:\n",
    "        cell['source'] = ['']"
   ]
  },
  {
   "cell_type": "code",
   "execution_count": 5,
   "metadata": {},
   "outputs": [],
   "source": [
    "with open(sol_file.replace('(Sol)', ''), 'w') as f:\n",
    "    f.write(data_json_without_sols)"
   ]
  }
 ],
 "metadata": {
  "kernelspec": {
   "display_name": "Python 3",
   "language": "python",
   "name": "python3"
  },
  "language_info": {
   "codemirror_mode": {
    "name": "ipython",
    "version": 3
   },
   "file_extension": ".py",
   "mimetype": "text/x-python",
   "name": "python",
   "nbconvert_exporter": "python",
   "pygments_lexer": "ipython3",
   "version": "3.6.1"
  }
 },
 "nbformat": 4,
 "nbformat_minor": 2
}

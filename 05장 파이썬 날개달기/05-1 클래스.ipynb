{
 "cells": [
  {
   "cell_type": "markdown",
   "metadata": {},
   "source": [
    "<br>\n",
    "\n",
    "# <center>**05-1 클래스**</center>\n",
    "---\n",
    "<br>\n",
    "\n",
    "초보 개발자들에게 클래스(class)는 넘기 힘든 장벽과도 같은 존재이다. 독자들 중에도 클래스라는 단어를 처음 접하는 이들이 있을 것이다. 여기서는 클래스가 왜 필요한지, 도대체 클래스라는 것은 무엇인지 아주 기초적인 것부터 차근차근 함께 알아보자."
   ]
  },
  {
   "cell_type": "markdown",
   "metadata": {},
   "source": [
    "<br>\n",
    "\n",
    "## <center>**클래스는 도대체 왜 필요한가?**</center>"
   ]
  },
  {
   "cell_type": "markdown",
   "metadata": {},
   "source": [
    "가장 많이 사용하는 프로그래밍 언어 중 하나인 C 언어에는 클래스가 없다. 이 말은 굳이 클래스 없이도 프로그램을 충분히 만들 수 있다는 말과도 같다. 파이썬으로 잘 만들어진 프로그램들을 살펴보아도 클래스를 이용하지 않고 작성된 것들이 상당히 많다. 클래스는 지금까지 공부한 함수나 자료형처럼 프로그램 작성을 위해 꼭 필요한 요소는 아니다.  \n",
    "<br>\n",
    "\n",
    "클래스가 나온지 얼마 되지 않았을 때는 클래스의 효용성에 대해 논란이 정말 많았지만 수 년간 끊임없이 연구되고 실무에서 사용되는 코드가 점점 거대해지면서 장점이 더 많다는 것을 알게 되었고 프로그래밍의 기초로서 자리잡게 되었다.  \n",
    "<br>\n",
    "\n",
    "#### 책의 예제는 별로 좋지 않은 것 같아서 예제는 내가 만들었다.\n",
    "<br>\n",
    "\n",
    "<img src=\"./gmail.gif\" width=\"50%\"></img><br>\n",
    "\n",
    "#### 메일 관리 프로그램을 만든다고 해보자.\n",
    "한 개의 메일에는 어떤 정보가 들어가는지 먼저 생각해 볼 수 있다.  \n",
    "> 보낸 사람, 받는 사람, 참조, 보낸 시간, 확인 여부, 첨부파일, 내용... 등\n",
    "\n",
    "파이썬 코드로 보면\n",
    "```python\n",
    "mail = {\n",
    "    '보낸 사람': [],\n",
    "    '받는 사람': [],\n",
    "    '참조'    : [],\n",
    "    '보낸 시간': '',\n",
    "    '확인 여부': False,\n",
    "    '첨부파일' : [],\n",
    "    '내용'    : ''\n",
    "}\n",
    "```\n",
    "<br>\n",
    "\n",
    "그런데 이 메일이 하나만 있는 것이 아니다. 메일이 여러 개 있는 메일함도 생각해볼 수 있다.\n",
    "```python\n",
    "mailbox = [mail1, mail2, ...] \n",
    "```\n",
    "<br>\n",
    "\n",
    "메일함에는 여러 가지 기능도 있다. 메일 답장, 복사, 이동, 삭제, 보관, ...  \n",
    "기능은 함수로 구현할 수 있다.\n",
    "```python\n",
    "def answer(mail, some_args...):\n",
    "    pass\n",
    "\n",
    "def copy_mail(mail, some_args...):\n",
    "    pass\n",
    "\n",
    "def move_mail(mail, to, some_args...):\n",
    "    pass\n",
    "\n",
    "def delete_mail(mail, some_args...):\n",
    "    pass\n",
    "\n",
    "def keep_mail(mail, some_args...):\n",
    "    pass\n",
    "```\n",
    "<br>\n",
    "\n",
    "그런데 여기서 문제가 생긴다. 일반 메일함에서 메일을 삭제하면 휴지통으로 보내지지만 휴지통에서 삭제하면 영구 삭제 시켜야 한다. `delete_mail`을 다르게 구현해야 한다.\n",
    "```python\n",
    "def delete_mail_permanetly(mail, some_args...):\n",
    "    pass\n",
    "```\n",
    "<br>\n",
    "\n",
    "만약 비슷한 기능이지만 메일함마다 다른 기능을 구현한다면 어떨까? 예를 들어 쇼핑/뉴스레터함에서는 사진을 강조해서 보여주고 스팸메일함은 제목만 보여준다든지 말이다.   \n",
    "이렇게 되면 메일함마다 함수 이름이 다 달라져 의사소통이 힘들어지고 전체 함수를 수정할 일이 생기면 매우 골치 아파진다.    \n",
    "<br>\n",
    "\n",
    "> 물론 코딩은 가능하다. 하지만 클래스가 있다면 편하다.\n",
    "\n",
    "<br>\n",
    "\n",
    "```python\n",
    "class MailBox:\n",
    "    def __init__(self, *mails):\n",
    "        pass\n",
    "    def common_func(self, some_args...):\n",
    "        pass\n",
    "    def answer(self, some_args...):\n",
    "        pass\n",
    "    \n",
    "class ShoppingMailBox(MailBox):\n",
    "    def __init__(self, *mails):\n",
    "        pass\n",
    "    def answer(self, mail, some_args...):\n",
    "        pass\n",
    "\n",
    "shopping = ShoppingMailBox(mails)\n",
    "shopping.answer(mail)\n",
    "```\n",
    "<br>\n",
    "\n",
    "- 공통 기능은 `common_func`에 구현해 일괄적으로 수정가능하다.\n",
    "- 모든 메일함에서 `answer`등의 함수를 다르게 구현할 수 있지만 함수 이름은 `answer`로 똑같다.\n",
    "<br>\n",
    "\n",
    "> 클래스의 기능을 이해할 필요는 없다. 그냥 맛보기니까 이렇구나 하고 지나가자."
   ]
  },
  {
   "cell_type": "markdown",
   "metadata": {},
   "source": [
    "<br>\n",
    "\n",
    "## <center>**클래스와 객체**</center>"
   ]
  },
  {
   "cell_type": "markdown",
   "metadata": {},
   "source": [
    "### 아래는 내가 처음 클래스와 객체를 이해한 방법이다.\n",
    "\n",
    "---\n",
    "<br>\n",
    "\n",
    "<img src=\"./dna.gif\" width=\"50%\" align=\"left\" style=\"margin: 0px 15px 0px 35px;\"></img>\n",
    "<img src=\"./man.gif\" width=\"38.4%\" style=\"margin: 20px;\"></img><br>\n",
    "\n",
    "> 클래스를 \"DNA\", 객체를 \"사람\"이라고 생각하면 쉽다.\n",
    "\n",
    "<br>\n",
    "\n",
    "클래스는 설계도면 같은 것이고 객체는 도면을 보고 찍어내는 것들이다.\n",
    "```python\n",
    "class DNA:\n",
    "    pass\n",
    "\n",
    "human1 = DNA(looks='pretty', nose='high', ...)\n",
    "human2 = DNA(looks='cute', mouth='big', ...)\n",
    "```\n",
    "<br>\n",
    "\n",
    "객체는 서로 독립적인 성격을 가지며 영향을 주지 않는다.\n",
    "\n",
    "## 그리고 이렇게 설계하는 것이 사람이 더 이해하기 쉽다!"
   ]
  },
  {
   "cell_type": "markdown",
   "metadata": {},
   "source": [
    "<br>\n",
    "\n",
    "## <center>**사칙연산 클래스 만들기**</center>"
   ]
  },
  {
   "cell_type": "markdown",
   "metadata": {},
   "source": [
    "### 클래스 어떻게 만들지 먼저 구상하기\n",
    "\n",
    "---\n",
    "<br>\n",
    "\n",
    "클래스는 무작정 만들기 보다는 클래스에 의해서 만들어진 객체를 중심으로 어떤 식으로 동작하게 할 것인지 미리 구상을 한 후에 생각했던 것들을 하나씩 해결하면서 완성해 나가는 것이 좋다.  \n",
    "<br>\n",
    "\n",
    "사칙연산을 가능하게 하는 `FourCal`이라는 클래스가 다음처럼 동작한다고 가정해 보자.  \n",
    "<br>\n"
   ]
  },
  {
   "cell_type": "code",
   "execution_count": null,
   "metadata": {},
   "outputs": [],
   "source": [
    "def add(a, b):\n",
    "    return a + b\n",
    "\n",
    "\n",
    "left, right = 10, 20\n",
    "print(add(10, 20))"
   ]
  },
  {
   "cell_type": "markdown",
   "metadata": {},
   "source": [
    "### \n",
    "\n",
    "---\n",
    "<br>\n",
    "\n"
   ]
  }
 ],
 "metadata": {
  "kernelspec": {
   "display_name": "Python 3",
   "language": "python",
   "name": "python3"
  },
  "language_info": {
   "codemirror_mode": {
    "name": "ipython",
    "version": 3
   },
   "file_extension": ".py",
   "mimetype": "text/x-python",
   "name": "python",
   "nbconvert_exporter": "python",
   "pygments_lexer": "ipython3",
   "version": "3.6.8"
  }
 },
 "nbformat": 4,
 "nbformat_minor": 2
}

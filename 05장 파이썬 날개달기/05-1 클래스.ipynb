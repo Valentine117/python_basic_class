{
 "cells": [
  {
   "cell_type": "markdown",
   "metadata": {},
   "source": [
    "<br>\n",
    "\n",
    "# <center>**05-1 클래스**</center>\n",
    "---\n",
    "<br>\n",
    "\n",
    "초보 개발자들에게 클래스(class)는 넘기 힘든 장벽과도 같은 존재이다. 독자들 중에도 클래스라는 단어를 처음 접하는 이들이 있을 것이다. 여기서는 클래스가 왜 필요한지, 도대체 클래스라는 것은 무엇인지 아주 기초적인 것부터 차근차근 함께 알아보자."
   ]
  },
  {
   "cell_type": "markdown",
   "metadata": {},
   "source": [
    "<br>\n",
    "\n",
    "## <center>**클래스는 도대체 왜 필요한가?**</center>\n",
    "<center>내용 많으니까 잘 따라오세요</center><br>"
   ]
  },
  {
   "cell_type": "markdown",
   "metadata": {},
   "source": [
    "가장 많이 사용하는 프로그래밍 언어 중 하나인 C 언어에는 클래스가 없다. 이 말은 굳이 클래스 없이도 프로그램을 충분히 만들 수 있다는 말과도 같다. 파이썬으로 잘 만들어진 프로그램들을 살펴보아도 클래스를 이용하지 않고 작성된 것들이 상당히 많다. 클래스는 지금까지 공부한 함수나 자료형처럼 프로그램 작성을 위해 꼭 필요한 요소는 아니다.  \n",
    "<br>\n",
    "\n",
    "클래스가 나온지 얼마 되지 않았을 때는 클래스의 효용성에 대해 논란이 정말 많았지만 수 년간 끊임없이 연구되고 실무에서 사용되는 코드가 점점 거대해지면서 장점이 더 많다는 것을 알게 되었고 프로그래밍의 기초로서 자리잡게 되었다.  \n",
    "<br>\n",
    "\n",
    "#### 책의 예시는 별로 좋지 않은 것 같아서 예제는 내가 만들었다.\n",
    "<br>\n",
    "\n",
    "<img src=\"./gmail.gif\" width=\"50%\"></img><br>\n",
    "\n",
    "#### 메일 관리 프로그램을 만든다고 해보자.\n",
    "한 개의 메일에는 어떤 정보가 들어가는지 먼저 생각해 볼 수 있다.  \n",
    "> 보낸 사람, 받는 사람, 참조, 보낸 시간, 확인 여부, 첨부파일, 내용... 등\n",
    "\n",
    "파이썬 코드로 보면\n",
    "```python\n",
    "mail = {\n",
    "    '보낸 사람': [],\n",
    "    '받는 사람': [],\n",
    "    '참조'    : [],\n",
    "    '보낸 시간': '',\n",
    "    '확인 여부': False,\n",
    "    '첨부파일' : [],\n",
    "    '내용'    : ''\n",
    "}\n",
    "```\n",
    "<br>\n",
    "\n",
    "그런데 이 메일이 하나만 있는 것이 아니다. 메일이 여러 개 있는 메일함도 생각해볼 수 있다.\n",
    "```python\n",
    "mailbox = [mail1, mail2, ...] \n",
    "```\n",
    "<br>\n",
    "\n",
    "메일함에는 여러 가지 기능도 있다. 메일 답장, 복사, 이동, 삭제, 보관, ...  \n",
    "기능은 함수로 구현할 수 있다.\n",
    "```python\n",
    "def answer(mail, some_args...):\n",
    "    pass\n",
    "\n",
    "def copy_mail(mail, some_args...):\n",
    "    pass\n",
    "\n",
    "def move_mail(mail, to, some_args...):\n",
    "    pass\n",
    "\n",
    "def delete_mail(mail, some_args...):\n",
    "    pass\n",
    "\n",
    "def keep_mail(mail, some_args...):\n",
    "    pass\n",
    "```\n",
    "<br>\n",
    "\n",
    "그런데 여기서 문제가 생긴다. 일반 메일함에서 메일을 삭제하면 휴지통으로 보내지지만 휴지통에서 삭제하면 영구 삭제 시켜야 한다. `delete_mail`을 다르게 구현해야 한다.\n",
    "```python\n",
    "def delete_mail_permanetly(mail, some_args...):\n",
    "    pass\n",
    "```\n",
    "<br>\n",
    "\n",
    "만약 비슷한 기능이지만 메일함마다 다른 기능을 구현한다면 어떨까? 예를 들어 쇼핑/뉴스레터함에서는 사진을 강조해서 보여주고 스팸메일함은 제목만 보여준다든지 말이다.   \n",
    "이렇게 되면 메일함마다 함수 이름이 다 달라져 의사소통이 힘들어지고 전체 함수를 수정할 일이 생기면 매우 골치 아파진다.    \n",
    "<br>\n",
    "\n",
    "> 물론 코딩은 가능하다. 하지만 클래스가 있다면 편하다.\n",
    "\n",
    "<br>\n",
    "\n",
    "```python\n",
    "class MailBox:\n",
    "    def __init__(self, *mails):\n",
    "        pass\n",
    "    def common_func(self, some_args...):\n",
    "        pass\n",
    "    def answer(self, some_args...):\n",
    "        pass\n",
    "    \n",
    "class ShoppingMailBox(MailBox):\n",
    "    def __init__(self, *mails):\n",
    "        pass\n",
    "    def answer(self, mail, some_args...):\n",
    "        pass\n",
    "\n",
    "shopping = ShoppingMailBox(mails)\n",
    "shopping.answer(mail)\n",
    "```\n",
    "<br>\n",
    "\n",
    "- 공통 기능은 `common_func`에 구현해 일괄적으로 수정가능하다.\n",
    "- 모든 메일함에서 `answer`등의 함수를 다르게 구현할 수 있지만 함수 이름은 `answer`로 똑같다.\n",
    "<br>\n",
    "\n",
    "> 클래스의 기능을 이해할 필요는 없다. 그냥 맛보기니까 이렇구나 하고 지나가자."
   ]
  },
  {
   "cell_type": "markdown",
   "metadata": {},
   "source": [
    "<br>\n",
    "\n",
    "## <center>**클래스와 객체**</center>"
   ]
  },
  {
   "cell_type": "markdown",
   "metadata": {},
   "source": [
    "### 아래는 내가 처음 클래스와 객체를 이해한 방법이다.\n",
    "\n",
    "---\n",
    "<br>\n",
    "\n",
    "<img src=\"./dna.gif\" width=\"50%\" align=\"left\" style=\"margin: 0px 15px 0px 35px;\"></img>\n",
    "<img src=\"./man.gif\" width=\"38.4%\" style=\"margin: 20px;\"></img><br>\n",
    "\n",
    "> ***클래스를 \"DNA\", 객체를 \"사람\"이라고 생각하면 쉽다.***\n",
    "\n",
    "<br>\n",
    "\n",
    "클래스는 설계도면 같은 것이고 객체는 도면을 보고 찍어내는 것들이다.\n",
    "```python\n",
    "class DNA:\n",
    "    pass\n",
    "\n",
    "human1 = DNA(looks='pretty', nose='high', ...)\n",
    "human2 = DNA(looks='cute', mouth='big', ...)\n",
    "```\n",
    "<br>\n",
    "\n",
    "객체는 서로 독립적인 성격을 가지며 영향을 주지 않는다.\n",
    "\n",
    "## 그리고 이렇게 설계하는 것이 사람이 더 이해하기 쉽다!"
   ]
  },
  {
   "cell_type": "markdown",
   "metadata": {},
   "source": [
    "<br>\n",
    "\n",
    "## <center>**사칙연산 클래스 만들기**</center>"
   ]
  },
  {
   "cell_type": "markdown",
   "metadata": {},
   "source": [
    "<br>\n",
    "\n",
    "### 클래스 어떻게 만들지 먼저 구상하기\n",
    "\n",
    "---\n",
    "<br>\n",
    "\n",
    "클래스는 무작정 만들기 보다는 클래스에 의해서 만들어진 객체를 중심으로 어떤 식으로 동작하게 할 것인지 미리 구상을 한 후에 생각했던 것들을 하나씩 해결하면서 완성해 나가는 것이 좋다.  \n",
    "<br>\n",
    "\n",
    "사칙연산을 가능하게 하는 `FourCal`이라는 클래스가 다음처럼 동작한다고 가정해 보자.  \n",
    "<br>\n",
    "\n",
    "먼저 `a = FourCal()`처럼 입력해서 `a`라는 객체를 만든다.\n",
    "```python\n",
    ">>> a = FourCal()\n",
    "```\n",
    "<br>\n",
    "\n",
    "그런 다음 `a.setdata(4, 2)`처럼 입력해서 `4`와 `2`라는 숫자를 객체 `a`에 지정해 주고\n",
    "```python\n",
    ">>> a.setdata(4, 2)\n",
    "```\n",
    "<br>\n",
    "\n",
    "`a.add()`을 수행하면 두 수를 합한 결과`(4 + 2)`를 돌려주고\n",
    "```python\n",
    ">>> print(a.add())\n",
    "6\n",
    "```\n",
    "<br>\n",
    "\n",
    "`a.mul()`을 수행하면 두 수를 곱한 결과`(4 * 2)`를 돌려주고\n",
    "```python\n",
    ">>> print(a.mul())\n",
    "8\n",
    "```\n",
    "<br>\n",
    "\n",
    "`a.sub()`를 수행하면 두 수를 뺀 결과`(4 - 2)`를 돌려주고\n",
    "```python\n",
    ">>> print(a.sub())\n",
    "2\n",
    "```\n",
    "<br>\n",
    "\n",
    "`a.div()`를 수행하면 두 수를 나눈 결과`(4 / 2)`를 돌려준다.\n",
    "```python\n",
    ">>> print(a.div())\n",
    "2\n",
    "```\n",
    "<br><br>\n",
    "\n",
    "### 클래스 구조 만들기\n",
    "\n",
    "---\n",
    "<br>\n",
    "\n",
    "자, 그렇다면 지금부터는 앞에서 구상했던 것처럼 동작하는 클래스를 만들어 보자. 제일 먼저 할 일은 `a = FourCal()`처럼 객체를 만들 수 있게 하는 것이다. 일단은 아무 기능이 없어도 되기 때문에 만드는 것은 매우 간단하다. 다음을 따라 해보자.\n",
    "```python\n",
    ">>> class FourCal:\n",
    "...     pass\n",
    "... \n",
    ">>>\n",
    "```\n",
    "<br>\n",
    "\n",
    "> ### 클래스 이름 명명법\n",
    "FourCal이라는 이름을 코드화 하는 방법은 여러 가지가 있다.  \n",
    "four_cal, fourcal, Four_cal, FourCal 등등...  \n",
    "이 중에서 FourCal과 같은 방법은 중간에 대문자로 뜻을 구분하고 붙여쓰는 것으로 낙타 등 같다고 해서 ***Camel Case***라고 한다.  \n",
    "파이썬에서 클래스 이름은 Camel Case를 따르기로 한다."
   ]
  },
  {
   "cell_type": "code",
   "execution_count": null,
   "metadata": {},
   "outputs": [],
   "source": []
  },
  {
   "cell_type": "markdown",
   "metadata": {},
   "source": [
    "우선 대화형 인터프리터에서 `pass`란 문장만을 포함한 `FourCal` 클래스를 만든다. 현재 상태에서 `FourCal` 클래스는 아무런 변수나 메서드도 포함하지 않지만 우리가 원하는 객체 `a`를 만들 수 있는 기능은 가지고 있다. 확인해 보자.\n",
    "```python\n",
    ">>> a = FourCal()\n",
    ">>> type(a)\n",
    "<class '__main__.FourCal'>\n",
    "```"
   ]
  },
  {
   "cell_type": "code",
   "execution_count": null,
   "metadata": {},
   "outputs": [],
   "source": []
  },
  {
   "cell_type": "markdown",
   "metadata": {},
   "source": [
    "위와 같이 `a = FourCal()`로 `a`라는 객체를 먼저 만들고 그 다음에 `type(a)`로 `a`라는 객체가 어떤 타입인지 알아보았다. 역시 객체 `a`가 `FourCal` 클래스의 인스턴스임을 알 수 있다.  \n",
    "<br>\n",
    "\n",
    "> ### 객체와 인스턴스 차이\n",
    "클래스에 의해서 만들어진 객체를 인스턴스라고도 한다. 그렇다면 객체와 인스턴스의 차이는 무엇일까? 이렇게 생각해 보자. `a = Cookie()` 이렇게 만들어진 a는 객체이다. 그리고 `a`라는 객체는 `Cookie`의 인스턴스이다. <br><br>\n",
    "***즉, 인스턴스라는 말은 특정 객체(a)가 어떤 클래스(Cookie)의 객체인지를 관계 위주로 설명할 때 사용된다.***\n",
    "<br><br>\n",
    "\"a는 인스턴스\" 보다는 \"a는 객체\"라는 표현이 어울리며, \"a는 Cookie의 객체\" 보다는 \"a는 Cookie의 인스턴스\"라는 표현이 훨씬 잘 어울린다.\n",
    "<br>\n",
    "사실 웬만하면 객체라는 말을 더 많이 쓰고, 인스턴스는 뜻을 분명하게 말할 때 쓰게 된다."
   ]
  },
  {
   "cell_type": "markdown",
   "metadata": {},
   "source": [
    "<br>\n",
    "\n",
    "### 객체에 숫자 지정할 수 있게 만들기\n",
    "\n",
    "---\n",
    "<br>\n",
    "\n",
    "하지만 생성된 객체 a는 아직 아무런 기능도 하지 못한다. 이제 더하기, 나누기, 곱하기, 빼기등의 기능을 하는 객체를 만들어야 한다. 그런데 이러한 기능을 갖춘 객체를 만들려면 우선적으로 a라는 객체에 사칙연산을 할 때 사용할 2개의 숫자를 먼저 알려주어야 한다.  \n",
    "다음과 같이 연산을 수행할 대상(4, 2)을 객체에 지정할 수 있게 만들어 보자.\n",
    "```python\n",
    ">>> a.setdata(4, 2)\n",
    "```\n",
    "위의 문장이 수행되려면 다음과 같이 소스 코드를 작성해야 한다.\n",
    "\n",
    "```python\n",
    ">>> class FourCal:\n",
    "...     def setdata(self, first, second):\n",
    "...         self.first = first\n",
    "...         self.second = second\n",
    "...\n",
    ">>>\n",
    "```\n",
    "<br>"
   ]
  },
  {
   "cell_type": "code",
   "execution_count": null,
   "metadata": {},
   "outputs": [],
   "source": [
    "class FourCal:"
   ]
  },
  {
   "attachments": {
    "image.png": {
     "image/png": "[encoded data removed]"
    }
   },
   "cell_type": "markdown",
   "metadata": {},
   "source": [
    "이전에 만들었던 `FourCal` 클래스에서 `pass`라는 문장을 삭제하고 `class` 내부에 `setdata`라는 함수를 만들었다. 클래스 안에 구현된 함수는 다른말로 ***메서드(Method)*** 라고 부른다. 앞으로 클래스 내의 함수는 항상 메서드라고 표현할테니 용어를 기억해 두도록 하자.  \n",
    "<br>\n",
    "\n",
    "일반적인 함수를 만들 때 우리는 다음과 같이 작성한다.  \n",
    "```python\n",
    "def 함수명(매개변수):\n",
    "    수행할 문장\n",
    "    ...\n",
    "```\n",
    "메서드도 클래스에 포함되어 있다는 점만 제외하면 일반함수와 다를 것이 없다.  \n",
    "<br>\n",
    "\n",
    "#### ① setdata 메소드의 매개변수\n",
    "<br>\n",
    "\n",
    "`setdata` 메서드는 매개변수로 `self, first, second`라는 3개의 입력값을 받는다. 그런데 일반적인 함수와는 달리 메서드의 첫 번째 매개변수 `self`는 특별한 의미를 가지고 있다.  \n",
    "<br>\n",
    "\n",
    "`self`에 어떤 특별한 의미가 있는지 다음의 예를 보면서 자세히 살펴보자.  \n",
    "```python\n",
    ">>> a = FourCal()\n",
    ">>> a.setdata(4, 2)\n",
    "```\n",
    "<br>\n",
    "\n",
    "위에서 보는 것처럼 먼저 `a`라는 객체를 만들었다. 그리고 `a`라는 객체를 통해 `setdata` 메서드를 호출했다.  \n",
    "<br>\n",
    "> ※ 객체를 통해 클래스의 메서드를 호출하려면 `a.setdata(4, 2)` 와 같이 도트(`.`) 연산자를 이용해야 한다.\n",
    "\n",
    "그런데 뭔가 좀 이상하지 않은가?  \n",
    "<br>\n",
    "setdata라는 메서드는 self, first, second라는 총 3개의 매개변수를 필요로 하는데 실제로는 a.setdata(4, 2) 처럼 4와 2라는 2개의 값만 전달한 것이다.  \n",
    "<br>\n",
    "왜 그럴까?  \n",
    "<br>\n",
    "그 이유는 `a.setdata(4, 2)`처럼 호출하면 `setdata` 메서드의 첫 번째 매개변수 `self`에는 `setdata`메서드를 호출한 객체 `a`가 자동으로 전달되기 때문이다.  \n",
    "<br>\n",
    "다음 그림을 보면 객체와 호출 입력 값들이 메서드에 어떻게 전달되는지 쉽게 이해가 갈 것이다.  \n",
    "<br>\n",
    "\n",
    "![image.png](attachment:image.png)\n",
    "<br>\n",
    "\n",
    "파이썬 클래스에서 가장 헷갈리는 부분이 바로 이 부분이다. `setdata`라는 메서드는 매개변수로 3개를 필요로 하는데 왜 `a.setdata(4, 2`)처럼 2개만 입력해도 실행이 되는가? 이 질문에 대한 답변을 여러분도 이제는 알았을 것이다.  \n",
    "<br>\n",
    "\n",
    "파이썬 메서드의 첫번째 매개변수명은 관례적으로 `self`라는 이름을 사용한다. 호출 시 호출한 객체 자신이 전달되기 때문에 `self`(\"self\"는 자기자신이라는 뜻을 가진 영어단어이다.)라는 이름을 사용하게 된 것이다. 물론 `self`말고 다른 이름을 사용해도 상관은 없다.  \n",
    "<br>\n",
    "\n",
    "> ※ 메서드의 첫번째 매개변수를 `self`를 명시적으로 구현해야 하는 것은 파이썬만의 독특한 특징이다. 예를들어 자바같은 언어는 첫번째 매개변수인 `self`가 필요없다.\n",
    "\n",
    "<br>\n",
    "\n",
    "> ### 메서드의 또 다른 호출 방법\n",
    "> 잘 사용하지는 않지만 다음과 같이 메서드를 호출하는 것도 가능하다.  \n",
    "```python\n",
    ">>>> a = FourCal()\n",
    ">>>> FourCal.setdata(a, 4, 2) # 이거 기억해두면 나중에 클래스함수, 스태틱함수 이해할 때 도움돼요!\n",
    "```\n",
    "> <br>\n",
    "> 위와 같이 \"클래스명.메서드\" 형태로 호출할 때는 객체 a를 입력 인수로 꼭 넣어 주어야 한다. 반면에 다음처럼 > \"객체.메서드\" 형태로 호출할 때는 첫 번째 입력 인수(`self`)를 반드시 생략해야 한다.  \n",
    "> <br>\n",
    ">\n",
    "> ```python\n",
    "> >>> a = FourCal()\n",
    "> >>> a.setdata(4, 2)```\n",
    "\n",
    "#### ② setdata 메서드의 수행문\n",
    "\n",
    "`setdata` 메서드에는 수행할 문장이 2개 있다.  \n",
    "```python\n",
    "self.first = first\n",
    "self.second = second\n",
    "```\n",
    "<br>\n",
    "\n",
    "위 수행문이 뜻하는 바는 무엇일까? 입력 인수로 받은 `first`는 4이고 `second`는 2라는 것은 앞에서 이미 알았다. 그렇다면 위의 문장은 다음과 같이 바뀔 것이다.  \n",
    "```python\n",
    "self.first = 4\n",
    "self.second = 2\n",
    "```\n",
    "<br>\n",
    "\n",
    "여기서 중요한 것은 바로 `self`이다. `self`는 `a.setdata(4, 2)`처럼 호출했을 때 자동으로 들어오는 객체 `a`라고 했다. 그렇다면 `self.first`의 의미는 무엇이겠는가? 당연히 `a.first`가 될 것이다. 또한 `self.second`는 당연히 `a.second`가 될 것이다.  \n",
    "<br>\n",
    "\n",
    "따라서 위의 두 문장을 풀어서 쓰면 다음과 같이 된다.  \n",
    "```python\n",
    "a.first = 4\n",
    "a.second = 2\n",
    "```\n",
    "<br>\n",
    "\n",
    "위와 같이 바뀐 문장이 실행되어 결국 `a`객체에는 `first`와 `second`라는 인스턴스변수가 생성된다.  \n",
    "<br>\n",
    "\n",
    "*인스턴스변수*는 다음과 같이 만들어진다.\n",
    "```인스턴스.인스턴스변수 = 값```\n",
    "(예: `a.first = 4`)\n",
    "<br>\n",
    "\n",
    "인스턴스변수(instance variable)는 객체에 정의된 변수를 의미하며 객체간 서로 공유되지 않는 특징을 갖는다.  \n",
    "> 인스턴스변수는 [속성], [멤버변수] 또는 [객체 변수]라고도 표현한다.\n",
    ">> \"객체 변수\"라는 말을 들어 본적이 없다. 사용빈도는 \"멤버변수\" > \"인스턴스 변수\" > \"속성\" 식이다.\n",
    "\n",
    "정말로 객체변수가 생성되었는지 다음과 같이 확인 해 보자.  \n",
    "<br>\n",
    "\n",
    "```python\n",
    ">>> a = FourCal()\n",
    ">>> a.setdata(4, 2)\n",
    ">>> print(a.first)\n",
    "4\n",
    ">>> print(a.second)\n",
    "2\n",
    "```"
   ]
  },
  {
   "cell_type": "code",
   "execution_count": null,
   "metadata": {},
   "outputs": [],
   "source": []
  },
  {
   "cell_type": "markdown",
   "metadata": {},
   "source": [
    "`a`객체에 객체변수 `first`와 `second`가 생성되었음을 확인할 수 있다.  \n",
    "<br>\n",
    "\n",
    "이번에는 `b`라는 객체를 하나 더 만들어 보자.\n",
    "```python\n",
    ">>> b = FourCal()\n",
    ">>> b.setdata(3, 7)\n",
    ">>> print(b.first)\n",
    "3\n",
    ">>> print(a.first)\n",
    "4\n",
    "```"
   ]
  },
  {
   "cell_type": "code",
   "execution_count": null,
   "metadata": {},
   "outputs": [],
   "source": []
  },
  {
   "cell_type": "markdown",
   "metadata": {},
   "source": [
    "`a`와 `b`라는 객체는 모두 `first`라는 변수를 가지고 있지만 그 변수의 값은 각기 다르다. `b` 객체의 `first` 변수에 3이라는 값을 대입하더라도 `a`의 `first` 값이 3으로 변경되지는 않는다. `a`, `b`객체의 `first`변수는 고유의 저장 영역을 가지고 있는 인스턴스 변수이기 때문이다.  \n",
    "<br>\n",
    "\n",
    "인스턴스 변수(예: `a.first`)는 그 객체의 고유한 값을 저장할 수 있는 공간이다. ***인스턴스 변수는 다른 객체들에 의해 영향받지 않고 독립적으로 그 값을 유지한다는 점을 꼭 기억하도록 하자.*** 클래스에서는 이 부분을 이해하는 것이 가장 중요하다.  \n",
    "<br>\n",
    "\n",
    "다음은 현재까지 완성된 `FourCal`클래스이다.\n",
    "```python\n",
    ">>> class FourCal:\n",
    "...     def setdata(self, first, second):\n",
    "...         self.first = first\n",
    "...         self.second = second\n",
    "...\n",
    ">>>\n",
    "```\n",
    "<br>\n",
    "\n",
    "지금까지 살펴본 내용이 바로 위의 4줄을 설명하기 위한 것이었다. 위에서 설명한 것들이 이해가 되지 않는다면 다시 한 번 읽어 보기 바란다. 이 부분을 이해하지 못 하면 다음으로 넘어갈 수 없기 때문이다."
   ]
  },
  {
   "cell_type": "code",
   "execution_count": null,
   "metadata": {},
   "outputs": [],
   "source": [
    "class"
   ]
  },
  {
   "cell_type": "markdown",
   "metadata": {},
   "source": [
    "<br>\n",
    "\n",
    "### 더하기 기능 만들기\n",
    "이제 절반 왔다 좀만 힘내자!  \n",
    "<br>\n",
    "\n",
    "---\n",
    "<br>\n",
    "\n",
    "\n",
    "자! 그럼 2개의 숫자값을 설정해 주었으니 2개의 숫자를 더하는 기능을 추가해 보자. 우리는 다음과 같이 더하기 기능을 갖춘 클래스를 만들어야 한다.  \n",
    "```python\n",
    ">>> a = FourCal()\n",
    ">>> a.setdata(4, 2)\n",
    ">>> print(a.add())\n",
    "6\n",
    "```\n",
    "<br>\n",
    "\n",
    "이를 가능하게 하기 위해 `FourCal` 클래스를 다음과 같이 만들어 보자.  \n",
    "```python\n",
    ">>> class FourCal:\n",
    "...     def setdata(self, first, second):\n",
    "...         self.first = first\n",
    "...         self.second = second\n",
    "...     def add(self):\n",
    "...         result = self.first + self.second\n",
    "...         return result\n",
    "...\n",
    ">>>\n",
    "```"
   ]
  },
  {
   "cell_type": "code",
   "execution_count": null,
   "metadata": {},
   "outputs": [],
   "source": [
    "class FourCal:\n",
    "    def setdata(self, first, second):\n",
    "        self.first = first\n",
    "        self.second = second\n",
    "    def"
   ]
  },
  {
   "cell_type": "markdown",
   "metadata": {},
   "source": [
    "새롭게 추가된 것은 `add`라는 메서드이다.  \n",
    "<br>\n",
    "\n",
    "다음과 같이 클래스를 사용해 보자.\n",
    "```python\n",
    ">>> a = FourCal()\n",
    ">>> a.setdata(4, 2)\n",
    "```"
   ]
  },
  {
   "cell_type": "code",
   "execution_count": null,
   "metadata": {},
   "outputs": [],
   "source": []
  },
  {
   "cell_type": "markdown",
   "metadata": {},
   "source": [
    "위와 같이 호출하면 앞서 살펴보았듯이 `a`객체의 `first`, `second` 멤버변수에는 각각 4와 2라는 값이 저장될 것이다.  \n",
    "<br>\n",
    "\n",
    "이제 `add`메서드를 호출 해 보자.\n",
    "```python\n",
    ">>> print(a.add())\n",
    ">>> 6\n",
    "```"
   ]
  },
  {
   "cell_type": "code",
   "execution_count": null,
   "metadata": {},
   "outputs": [],
   "source": []
  },
  {
   "cell_type": "markdown",
   "metadata": {},
   "source": [
    "`a.add()` 이라고 호출하면 `add`메서드가 호출 되어 6이라는 값이 출력될 것이다. 어떤 과정을 거쳐 6이라는 값이 출력되는지 `add` 메서드를 따로 떼어 내서 자세히 살펴보도록 하자.  \n",
    "```python\n",
    "def add(self):\n",
    "    result = self.first + self.second\n",
    "    return result\n",
    "```\n",
    "<br>\n",
    "\n",
    "`add` 메서드의 매개변수는 `self`이고 리턴값은 `result`이다.  \n",
    "<br>\n",
    "\n",
    "리턴 값인 `result`를 계산하는 부분은 다음과 같다.  \n",
    "```python\n",
    "result = self.first + self.second\n",
    "```\n",
    "<br>\n",
    "\n",
    "`a.add()` 과 같이 `a` 객체에 의해 `add` 메서드가 수행되면 `add` 메서드의 `self`에는 객체 `a`가 자동으로 입력되므로 위의 내용은 아래와 같이 해석된다.\n",
    "```python\n",
    "result = a.first + a.second\n",
    "```\n",
    "<br>\n",
    "\n",
    "위의 내용은 `a.add()` 메소드 호출전에 `a.setdata(4, 2)` 가 먼저 호출되어 `a.first = 4, a.second = 2` 라고 이미 설정되었기 때문에 다시 다음과 같이 해석된다.\n",
    "```python\n",
    "result = 4 + 2\n",
    "```\n",
    "<br>\n",
    "\n",
    "따라서 다음과 같이 `a.add()` 을 호출하면 6이 리턴된다.\n",
    "```python\n",
    ">>> print(a.add())\n",
    "6\n",
    "```\n",
    "<br>\n",
    "\n",
    "여기까지 모두 이해한 독자라면 클래스에 대해 80% 이상을 안 것이다. 파이썬의 클래스는 그다지 어렵지 않다."
   ]
  },
  {
   "cell_type": "markdown",
   "metadata": {},
   "source": [
    "### 곱하기, 빼기, 나누기 기능 만들기\n",
    "\n",
    "---\n",
    "<br>\n",
    "\n",
    "이번에는 곱하기, 빼기, 나누기 등을 할 수 있게 만들어 보자.\n",
    "```python\n",
    ">>> class FourCal:\n",
    "...     def setdata(self, first, second):\n",
    "...         self.first = first\n",
    "...         self.second = second\n",
    "...     def add(self):\n",
    "...         result = self.first + self.second\n",
    "...         return result\n",
    "...     def mul(self):\n",
    "...         result = self.first * self.second\n",
    "...         return result\n",
    "...     def sub(self):\n",
    "...         result = self.first - self.second\n",
    "...         return result\n",
    "...     def div(self):\n",
    "...         result = self.first / self.second\n",
    "...         return result\n",
    "...\n",
    ">>>\n",
    "```"
   ]
  },
  {
   "cell_type": "code",
   "execution_count": null,
   "metadata": {},
   "outputs": [],
   "source": [
    "class FourCal:\n",
    "    def setdata(self, first, second):\n",
    "        self.first = first\n",
    "        self.second = second\n",
    "    def add(self):\n",
    "        result = self.first + self.second\n",
    "        return result\n",
    "    def "
   ]
  },
  {
   "cell_type": "markdown",
   "metadata": {},
   "source": [
    "`mul`, `sub`, `div` 모두 `add` 메서드에서 배운 것과 동일한 방법이니 따로 설명하지는 않겠다.  \n",
    "<br>\n",
    "\n",
    "정말로 모든 것이 제대로 동작하는지 확인해 보자.\n",
    "```python\n",
    ">>> a = FourCal()\n",
    ">>> b = FourCal()\n",
    ">>> a.setdata(4, 2)\n",
    ">>> b.setdata(3, 7)\n",
    ">>> a.add()\n",
    "6\n",
    ">>> a.mul()\n",
    "8\n",
    ">>> a.sub()\n",
    "2\n",
    ">>> a.div()\n",
    "2\n",
    ">>> b.add()\n",
    "10\n",
    ">>> b.mul()\n",
    "21\n",
    ">>> b.sub()\n",
    "-4\n",
    ">>> b.div()\n",
    "0\n",
    "```"
   ]
  },
  {
   "cell_type": "code",
   "execution_count": null,
   "metadata": {},
   "outputs": [],
   "source": [
    "a = FourCal()\n",
    "b = FourCal()\n",
    "a.setdata(4, 2)\n",
    "b.setdata(3, 7)\n"
   ]
  },
  {
   "cell_type": "markdown",
   "metadata": {},
   "source": [
    "<br>\n",
    "\n",
    "## <center>**생성자 (Constructor)**</center>"
   ]
  },
  {
   "cell_type": "markdown",
   "metadata": {},
   "source": [
    "이번에는 우리가 만든 `FourCal` 클래스를 다음과 같이 사용해 보자.\n",
    "```python\n",
    ">>> a = FourCal()\n",
    ">>> a.add()\n",
    "Traceback (most recent call last):\n",
    "  File \"<stdin>\", line 1, in <module>\n",
    "  File \"<stdin>\", line 6, in add\n",
    "AttributeError: 'FourCal' object has no attribute 'first'\n",
    "```"
   ]
  },
  {
   "cell_type": "code",
   "execution_count": null,
   "metadata": {},
   "outputs": [],
   "source": []
  },
  {
   "cell_type": "markdown",
   "metadata": {},
   "source": [
    "`FourCal` 클래스의 인스턴스 a에 `setdata`메서드를 수행하지 않고 `add` 메서드를 수행하면 오류가 발생하게 된다. `setdata` 메서드를 수행해야 객체 `a`의 객체변수 `first`와 `second`이 생성되기 때문이다.  \n",
    "<br>\n",
    "\n",
    "이렇게 객체에 초기값을 설정해야 할 필요가 있을때는 `setdata`와 같은 메서드를 호출하여 초기값을 설정하기 보다는 생성자를 구현하는 것이 안전한 방법이다.  \n",
    "<br>\n",
    "\n",
    "생성자(Constructor)란 객체가 생성될 때 자동으로 호출되는 메서드를 의미한다.  \n",
    "<br>\n",
    "\n",
    "파이썬 메서드명으로 `__init__` 을 사용하면 이 메서드는 생성자가 된다. 다음과 같이 ``FourCal``클래스에 생성자를 추가해 보자.\n",
    "\n",
    "> ### 매직 메소드 (Magic Method)\n",
    "※ `__init__` 메서드의 `init` 앞 뒤로 붙은 `__`는 언더스코어(`_`) 두 개를 붙여서 사용해야 한다.  \n",
    "앞뒤에 언더스코어가 붙은 메소드들은 **매직 메소드**라 하며, 파이썬의 빌트인(built-in)기능을 이용하게 해주고 클래스 scope 바깥에서는 쓰이지 않는 함수들이다.  \n",
    "<br>\n",
    "예를 들어 `__add__`를 구현하면 객체끼리 + 연산이 가능해진다.\n",
    "\n",
    "```python\n",
    "class FourCal:\n",
    "    def __init__(self, first, second):\n",
    "        self.first = first\n",
    "        self.second = second\n",
    "    def setdata(self, first, second):\n",
    "        self.first = first\n",
    "        self.second = second\n",
    "    def add(self):\n",
    "        result = self.first + self.second\n",
    "        return result\n",
    "    def mul(self):\n",
    "        result = self.first * self.second\n",
    "        return result\n",
    "    def sub(self):\n",
    "        result = self.first - self.second\n",
    "        return result\n",
    "    def div(self):\n",
    "        result = self.first / self.second\n",
    "        return result\n",
    "```"
   ]
  },
  {
   "cell_type": "code",
   "execution_count": null,
   "metadata": {},
   "outputs": [],
   "source": [
    "class FourCal:\n",
    "    def \n",
    "    \n",
    "    def setdata(self, first, second):\n",
    "        self.first = first\n",
    "        self.second = second\n",
    "    def add(self):\n",
    "        result = self.first + self.second\n",
    "        return result\n",
    "    def mul(self):\n",
    "        result = self.first * self.second\n",
    "        return result\n",
    "    def sub(self):\n",
    "        result = self.first - self.second\n",
    "        return result\n",
    "    def div(self):\n",
    "        result = self.first / self.second\n",
    "        return result"
   ]
  },
  {
   "cell_type": "markdown",
   "metadata": {},
   "source": [
    "새롭게 추가된 생성자인 `__init__` 메서드만 따로 떼어 내서 살펴보자.\n",
    "```python\n",
    "def __init__(self, first, second):\n",
    "    self.first = first\n",
    "    self.second = second\n",
    "```\n",
    "<br>\n",
    "\n",
    "`__init__` 메서드는 `setdata`메서드와 이름만 다르고 모든게 동일하다. 단, 메서드 이름을 `__init__`으로 했기 때문에 ***생성자로 인식되어 객체가 생성되는 시점에 자동으로 호출되는 차이가 있다.***  \n",
    "<br>\n",
    "\n",
    "이제 다음처럼 예제를 수행 해 보자.\n",
    "```python\n",
    ">>> a = FourCal()\n",
    "Traceback (most recent call last):\n",
    "  File \"<stdin>\", line 1, in <module>\n",
    "TypeError: __init__() missing 2 required positional arguments: 'first' and 'second'\n",
    "```"
   ]
  },
  {
   "cell_type": "code",
   "execution_count": null,
   "metadata": {},
   "outputs": [],
   "source": []
  },
  {
   "cell_type": "markdown",
   "metadata": {},
   "source": [
    "`a = FourCal()` 수행 시 생성자 `__init__` 이 호출되어 위와 같은 오류가 발생했다. 오류가 발생한 이유는 생성자의 매개변수인 `first`와 `second`에 해당되는 값이 전달되지 않았기 때문이다.  \n",
    "<br>\n",
    "\n",
    "위 오류를 해결하려면 다음처럼 `first`와 `second`에 해당되는 값을 전달하여 객체를 생성해야 한다.  \n",
    "```python\n",
    ">>> a = FourCal(4, 2)\n",
    ">>> \n",
    "```"
   ]
  },
  {
   "cell_type": "code",
   "execution_count": null,
   "metadata": {},
   "outputs": [],
   "source": []
  },
  {
   "cell_type": "markdown",
   "metadata": {},
   "source": [
    "위와 같이 수행하면 `__init__` 메서드의 매개변수에는 각각 다음과 같은 값들이 대입된다.\n",
    "\n",
    "| 매개변수 | 값 |\n",
    "| :--- | :-- |\n",
    "| self | 생성되는 객체 |\n",
    "| first | 4 |\n",
    "| second | 2 |\n",
    "\n",
    "따라서 `__init__` 메서드가 호출되면 `setdata` 메서드를 호출했을 때와 마찬가지로 `first`와 `second`라는 멤버변수가 생성될 것이다.  \n",
    "<br>\n",
    "\n",
    "다음과 같이 멤버변수의 값을 확인 해 보자.\n",
    "```python\n",
    ">>> a = FourCal(4, 2)\n",
    ">>> print(a.first)\n",
    "4\n",
    ">>> print(a.second)\n",
    "2\n",
    "```"
   ]
  },
  {
   "cell_type": "code",
   "execution_count": null,
   "metadata": {},
   "outputs": [],
   "source": []
  },
  {
   "cell_type": "markdown",
   "metadata": {},
   "source": [
    "`add`나 `div`등의 메서드도 잘 동작하는지 다음과 같이 확인 해 보자.\n",
    "```python\n",
    ">>> a = FourCal(4, 2)\n",
    ">>> a.add()\n",
    "6\n",
    ">>> a.div()\n",
    "2.0\n",
    "```"
   ]
  },
  {
   "cell_type": "code",
   "execution_count": null,
   "metadata": {},
   "outputs": [],
   "source": []
  },
  {
   "cell_type": "markdown",
   "metadata": {},
   "source": [
    "<br>\n",
    "\n",
    "## <center>**클래스의 상속**</center>"
   ]
  },
  {
   "cell_type": "markdown",
   "metadata": {},
   "source": [
    "***상속(Inheritance)***이란 \"물려받다\"라는 뜻으로, \"재산을 상속받다\"라고 할 때의 상속과 같은 의미이다. 클래스에도 이런 개념을 적용할 수가 있다. 어떤 클래스를 만들 때 다른 클래스의 기능을 물려받을 수 있게 만드는 것이다.  \n",
    "<br>\n",
    "\n",
    "이번에는 상속의 개념을 이용하여 우리가 만든 `FourCal` 클래스에 $a^b$ (a의 b승)을 구할 수 있는 기능을 추가 해 보자.  \n",
    "<br>\n",
    "\n",
    "`FourCal`클래스를 상속하는 `MoreFourCal`클래스는 다음과 같이 간단하게 만들 수 있다. (앞서 구현한 `FourCal` 클래스는 이미 만들어 놓았다고 가정한다.)\n",
    "```python\n",
    ">>> class MoreFourCal(FourCal):\n",
    "...     pass\n",
    "... \n",
    ">>>\n",
    "```"
   ]
  },
  {
   "cell_type": "code",
   "execution_count": null,
   "metadata": {},
   "outputs": [],
   "source": []
  },
  {
   "cell_type": "markdown",
   "metadata": {},
   "source": [
    "클래스를 상속하기 위해서는 다음처럼 클래스명 뒤 괄호 안에 상속할 클래스명을 넣어 주면 된다.\n",
    "> class 클래스명(상속할 클래스명)\n",
    "\n",
    "`MoreFourCal` 클래스는 `FourCal`클래스를 상속했으므로 `FourCal`클래스의 모든 기능을 사용할 수 있어야 할 것이다.  \n",
    "<br>\n",
    "\n",
    "다음과 같이 확인 해보자.\n",
    "```python\n",
    ">>> a = MoreFourCal(4, 2)\n",
    ">>> a.add()\n",
    "6\n",
    ">>> a.mul()\n",
    "8\n",
    ">>> a.sub()\n",
    "2\n",
    ">>> a.div()\n",
    "2\n",
    "```"
   ]
  },
  {
   "cell_type": "code",
   "execution_count": null,
   "metadata": {},
   "outputs": [],
   "source": []
  },
  {
   "cell_type": "markdown",
   "metadata": {},
   "source": [
    "상속받은 `FourCal` 클래스의 기능을 모두 사용할 수 있음을 확인할 수 있다.\n",
    "\n",
    "> ### 왜 굳이 상속을 해요???\n",
    "보통 상속은 기존 클래스를 변경하지 않고 기능을 추가하거나 기존 기능을 변경하려고 할 때 사용한다.  \n",
    "<br>\n",
    "클래스에 기능을 추가하고 싶으면 기존 클래스를 수정하면 되는데 왜 굳이 상속을 받아서 처리해야 하지? 라는 의문이 들 수도 있다. 하지만 ***기존 클래스가 라이브러리 형태로 제공되거나 수정이 허용되지 않는 상황이라면 상속을 이용해야만 할 것이다.***\n",
    "\n",
    "이제 원래 목적인 a의 b승 ($a^b$) 을 계산해 주는 `MoreFourCal`클래스를 만들어 보자.\n",
    "```python\n",
    ">>> class MoreFourCal(FourCal):\n",
    "...     def pow(self):\n",
    "...         result = self.first ** self.second\n",
    "...         return result\n",
    "...\n",
    ">>>\n",
    "```"
   ]
  },
  {
   "cell_type": "code",
   "execution_count": null,
   "metadata": {},
   "outputs": [],
   "source": [
    "class"
   ]
  },
  {
   "cell_type": "markdown",
   "metadata": {},
   "source": [
    "`pass` 문장은 삭제하고 위와 같이 두 수의 거듭 제곱을 구할 수 있는 `pow`메서드를 추가해 주었다. 그리고 다음과 같이 `pow`메서드를 수행 해 보자.\n",
    "```python\n",
    ">>> a = MoreFourCal(4, 2)\n",
    ">>> a.pow()\n",
    "16\n",
    "```"
   ]
  },
  {
   "cell_type": "code",
   "execution_count": null,
   "metadata": {},
   "outputs": [],
   "source": []
  },
  {
   "cell_type": "markdown",
   "metadata": {},
   "source": [
    "`MoreFourCal` 클래스로 만들어진 `a`객체에 4와 2라는 값을 세팅한 후 `pow`메서드를 호출하면 4의 2승 ($4^2$)인 16을 리턴해 주는 것을 확인할 수 있다.\n",
    "\n",
    "상속은 `MoreFourCal` 클래스처럼 기존 클래스(`FourCal`)는 그대로 놔둔채로 클래스의 기능을 확장시키고자 할 때 주로 사용된다."
   ]
  },
  {
   "cell_type": "markdown",
   "metadata": {},
   "source": [
    "<br>\n",
    "\n",
    "## <center>**메소드 오버라이딩**</center>"
   ]
  },
  {
   "cell_type": "markdown",
   "metadata": {},
   "source": [
    "이번에는 `FourCal` 클래스를 다음과 같이 실행 해 보자.\n",
    "```python\n",
    ">>> a = FourCal(4, 0)\n",
    ">>> a.div()\n",
    "Traceback (most recent call last):\n",
    "  File \"<stdin>\", line 1, in <module>\n",
    "    result = self.first / self.second\n",
    "ZeroDivisionError: division by zero\n",
    "```"
   ]
  },
  {
   "cell_type": "code",
   "execution_count": null,
   "metadata": {},
   "outputs": [],
   "source": []
  },
  {
   "cell_type": "markdown",
   "metadata": {},
   "source": [
    "`FourCal`클래스의 객체 `a`에 4와 0이라는 값을 세팅하고 `div`메서드를 호출하면 4를 0으로 나누려고 하기 때문에 위와같은 `ZeroDivisionError` 오류가 발생하게 된다.  \n",
    "<br>\n",
    "\n",
    "하지만 0으로 나눌 때 오류가 아닌 0을 리턴하도록 만들고 싶다면 어떻게 해야 할까?  \n",
    "<br>\n",
    "\n",
    "다음과 같이 `FourCal`클래스를 상속하는 `SafeFourCal`클래스를 만들어 보자.\n",
    "```python\n",
    "class SafeFourCal(FourCal):\n",
    "    def div(self):\n",
    "        if self.second == 0:  # 나누는 값이 0인 경우 0을 리턴하도록 수정\n",
    "            return 0\n",
    "        else:\n",
    "            return self.first / self.second\n",
    "```"
   ]
  },
  {
   "cell_type": "code",
   "execution_count": null,
   "metadata": {},
   "outputs": [],
   "source": [
    "class"
   ]
  },
  {
   "cell_type": "markdown",
   "metadata": {},
   "source": [
    "`SafeFourCal` 클래스는 `FourCal`클래스에 있는 `div`라는 메서드를 동일한 이름으로 다시 작성하였다. ***이렇게 부모 클래스(상속한 클래스)에 있는 메서드를 동일한 이름으로 다시 만드는 것을 메서드 오버라이딩(Overriding, 덮어쓰기)이라고 한다.*** 이렇게 메서드를 오버라이딩하면 부모 클래스의 메서드 대신 오버라이딩한 메서드가 호출된다.  \n",
    "<br>\n",
    "\n",
    "`SafeFourCal` 클래스에 오버라이딩한 `div` 메서드는 나누는 값이 0인 경우에는 0을 리턴하도록 수정했다.  \n",
    "<br>\n",
    "\n",
    "이제 다시 위에서 수행했던 예제를 `FourCal`클래스 대신 `SafeFourCal` 클래스를 이용하여 수행해 보자.\n",
    "```python\n",
    ">>> a = SafeFourCal(4, 0)\n",
    ">>> a.div()\n",
    "0\n",
    "```"
   ]
  },
  {
   "cell_type": "code",
   "execution_count": null,
   "metadata": {},
   "outputs": [],
   "source": []
  },
  {
   "cell_type": "markdown",
   "metadata": {},
   "source": [
    "`FourCal`클래스와는 달리 `ZeroDivisionError`가 발생하지 않고 의도했던 대로 0을 리턴하는 것을 확인할 수 있을 것이다."
   ]
  },
  {
   "cell_type": "markdown",
   "metadata": {},
   "source": [
    "<br>\n",
    "\n",
    "## <center>**클래스 변수**</center>"
   ]
  },
  {
   "cell_type": "markdown",
   "metadata": {},
   "source": [
    "객체변수는 다른 객체들에 의해 영향받지 않고 독립적으로 그 값을 유지한다는 점을 이미 알아보았다. 이번에는 객체변수와는 성격이 다른 클래스 변수에 대해서 알아보자.  \n",
    "<br>\n",
    "\n",
    "다음의 클래스를 작성해 보자.\n",
    "```python\n",
    ">>> class Family:\n",
    "...     lastname = \"김\"\n",
    "...\n",
    "```"
   ]
  },
  {
   "cell_type": "code",
   "execution_count": null,
   "metadata": {},
   "outputs": [],
   "source": []
  },
  {
   "cell_type": "markdown",
   "metadata": {},
   "source": [
    "`Family` 클래스에 선언된 `lastname`이 바로 클래스 변수이다. 클래스 변수는 클래스 안에 함수를 선언하는 것과 마찬가지로 클래스 안에 변수를 선언하여 생성한다.  \n",
    "<br>\n",
    "\n",
    "이제 `Family` 클래스를 다음과 같이 사용해 보자.\n",
    "```python\n",
    ">>> print(Family.lastname)\n",
    "김\n",
    "```"
   ]
  },
  {
   "cell_type": "code",
   "execution_count": null,
   "metadata": {},
   "outputs": [],
   "source": []
  },
  {
   "cell_type": "markdown",
   "metadata": {},
   "source": [
    "클래스 변수는 위 예와 같이 `클래스명.클래스변수`로 사용할 수 있다.  \n",
    "<br>\n",
    "\n",
    "또는 다음과 같이 `Family` 클래스에 의해 생성된 객체를 통해서도 클래스 변수를 사용할 수 있다.\n",
    "```python\n",
    ">>> a = Family()\n",
    ">>> b = Family()\n",
    ">>> print(a.lastname)\n",
    "김\n",
    ">>> print(b.lastname)\n",
    "김\n",
    "```"
   ]
  },
  {
   "cell_type": "code",
   "execution_count": null,
   "metadata": {},
   "outputs": [],
   "source": []
  },
  {
   "cell_type": "markdown",
   "metadata": {},
   "source": [
    "만약 `Family` 클래스의 `lastname`을 다음과 같이 \"박\"이라는 문자열로 바꾸면 어떻게 될까?\n",
    "```python\n",
    ">>> Family.lastname = \"박\"\n",
    "```\n",
    "<br>\n",
    "\n",
    "바꾸고 다음과 같이 확인해보자.\n",
    "```python\n",
    ">>> print(a.lastname)\n",
    "박\n",
    ">>> print(b.lastname)\n",
    "박\n",
    "```"
   ]
  },
  {
   "cell_type": "code",
   "execution_count": null,
   "metadata": {},
   "outputs": [],
   "source": []
  },
  {
   "cell_type": "markdown",
   "metadata": {},
   "source": [
    "클래스 변수의 값을 변경했더니 클래스에 의해 생성된 객체들의 `lastname` 값들도 모두 함께 변경된다는 것을 확인할 수 있다.  \n",
    "<br>\n",
    "\n",
    "***즉, 클래스 변수는 클래스에 의해 생성된 모든 객체에 공유된다는 특징을 갖고 있다.***\n",
    "\n",
    "<br>\n",
    "\n",
    "`id` 함수를 이용하면 클래스 변수가 공유된다는 사실을 증명할 수 있다. (※ id 함수는 객체의 주소를 리턴해 주는 파이썬 내장함수이다.)\n",
    "```python\n",
    ">>> id(Family.lastname)\n",
    "4480159136\n",
    ">>> id(a.lastname)\n",
    "4480159136\n",
    ">>> id(b.lastname)\n",
    "4480159136\n",
    "```"
   ]
  },
  {
   "cell_type": "code",
   "execution_count": null,
   "metadata": {},
   "outputs": [],
   "source": []
  },
  {
   "cell_type": "markdown",
   "metadata": {},
   "source": [
    "id 값이 모두 같으므로 `Family.lastname`, `a.lastname`, `b.lastname`은 모두 같은 곳을 바라보고 있음을 알 수 있다.  \n",
    "<br>\n",
    "\n",
    "클래스 변수를 가장 늦게 설명하는 이유는 클래스에서 클래스 변수보다는 객체 변수가 훨씬 중요하기 때문이다. 실제 실무적인 프로그래밍을 할 때도 클래스 변수보다는 객체 변수를 사용하는 비율이 훨씬 높다."
   ]
  },
  {
   "cell_type": "markdown",
   "metadata": {},
   "source": [
    "<br>\n",
    "\n",
    "## <center>**연습문제**</center>"
   ]
  },
  {
   "cell_type": "markdown",
   "metadata": {},
   "source": [
    "### [문제1] UpgradeCalculator\n",
    "\n",
    "다음은 `Calculator` 클래스이다.\n",
    "```python\n",
    "class Calculator:\n",
    "    def __init__(self):\n",
    "        self.value = 0\n",
    "\n",
    "    def add(self, val):\n",
    "        self.value += val\n",
    "```\n",
    "위 클래스를 상속하는 `UpgradeCalculator`를 만들고 값을 뺄 수 있는 `minus` 메서드를 추가하시오. 즉, 다음과 같이 동작하는 클래스를 만드시오.\n",
    "```python\n",
    "cal = UpgradeCalculator()\n",
    "cal.add(10)\n",
    "cal.minus(7)\n",
    "\n",
    "print(cal.value)  # 10에서 7을 뺀 3을 출력\n",
    "```"
   ]
  },
  {
   "cell_type": "code",
   "execution_count": null,
   "metadata": {},
   "outputs": [],
   "source": []
  },
  {
   "cell_type": "markdown",
   "metadata": {},
   "source": [
    "### [문제2] MaxLimitCalculator\n",
    "\n",
    "이번에 여러분이 작성해야 하는 클래스는 `MaxLimitCalculator` 클래스이다. `MaxLimitCalculator` 클래스는 객체변수 `value`가 100이상의 값은 가질 수 없도록 제한하는 클래스이다. 즉, 다음과 같이 동작해야 한다.\n",
    "```python\n",
    "cal = MaxLimitCalculator()\n",
    "cal.add(50)  # 50 더하기\n",
    "cal.add(60)  # 60 더하기\n",
    "\n",
    "print(cal.value)  # 100 출력 \n",
    "```\n",
    "<br>\n",
    "\n",
    "단, 한가지 전제 조건이 있다. 그 조건은 반드시 다음과 같은 `Calculator` 클래스를 상속해서 만들어야 한다는 것이다.\n",
    "```python\n",
    "class Calculator:\n",
    "    def __init__(self):\n",
    "        self.value = 0\n",
    "\n",
    "    def add(self, val):\n",
    "        self.value += val\n",
    "```\n",
    "<br>\n",
    "\n",
    "위와 같은 조건을 만족하는 `MaxLimitCalculator` 클래스를 작성하시오."
   ]
  },
  {
   "cell_type": "code",
   "execution_count": null,
   "metadata": {},
   "outputs": [],
   "source": []
  }
 ],
 "metadata": {
  "kernelspec": {
   "display_name": "Python 3",
   "language": "python",
   "name": "python3"
  },
  "language_info": {
   "codemirror_mode": {
    "name": "ipython",
    "version": 3
   },
   "file_extension": ".py",
   "mimetype": "text/x-python",
   "name": "python",
   "nbconvert_exporter": "python",
   "pygments_lexer": "ipython3",
   "version": "3.6.8"
  }
 },
 "nbformat": 4,
 "nbformat_minor": 2
}

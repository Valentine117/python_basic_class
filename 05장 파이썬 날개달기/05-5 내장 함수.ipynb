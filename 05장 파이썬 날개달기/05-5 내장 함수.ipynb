{
 "cells": [
  {
   "cell_type": "markdown",
   "metadata": {},
   "source": [
    "<br>\n",
    "\n",
    "# <center>**05-5 내장 함수**</center>\n",
    "---\n",
    "<br>\n",
    "\n",
    "자신이 필요한 프로그램을 직접 만드는 것도 재밌지만 \n",
    "> Don't Reinvent The Wheel : 이미 있는 것을 또 만들기 위해 시간을 허비하지 말라\n",
    "\n",
    "재미나 공부 목적이 아니라면 이미 있는 프로그램들을 또 개발하는 것은 시간낭비일 것이다.  \n",
    "어떤 프로그램을 구현하기 전에 이미 개발된 프레임워크나 라이브러리가 없는지 잘 살펴보는 것도 중요하다.  \n",
    "<br>\n",
    "파이썬에서는 자주 사용되는 함수들을 내장 함수로 구현해놨다.  \n",
    "이들을 알아보고 적절히 사용해보도록 하자."
   ]
  },
  {
   "cell_type": "markdown",
   "metadata": {},
   "source": [
    "### abs\n",
    "\n",
    "---\n",
    "<br>\n",
    "\n",
    "abs(x)는 어떤 숫자를 입력으로 받았을 때, 그 숫자의 절대값을 돌려주는 함수이다.\n",
    "```python\n",
    ">>> abs(3)\n",
    "3\n",
    ">>> abs(-3)\n",
    "3\n",
    ">>> abs(-1.2)\n",
    "1.2\n",
    "```"
   ]
  },
  {
   "cell_type": "code",
   "execution_count": null,
   "metadata": {},
   "outputs": [],
   "source": [
    "abs(3), abs(-3), abs(-1.2)"
   ]
  },
  {
   "cell_type": "markdown",
   "metadata": {},
   "source": [
    "### all\n",
    "\n",
    "---\n",
    "<br>\n",
    "\n",
    "`all(x)`은 반복 가능한( `iterable` ) 자료형 `x`를 입력 인수로 받으며, 이 `x`의 모든 요소가 참이면 `True`,  \n",
    "***거짓이 하나라도 있으면 `False`를 리턴한다.***\n",
    "\n",
    "```python\n",
    ">>> all([1, 2, 3])  # 1, 2, 3이 모두 참이므로\n",
    "True\n",
    ">>> all([1, 2, 3, 0])  # 0이 거짓이기 때문에\n",
    "False\n",
    "```"
   ]
  },
  {
   "cell_type": "code",
   "execution_count": null,
   "metadata": {},
   "outputs": [],
   "source": [
    "all([1, 2, 3]), all([1, 2, 3, 0])"
   ]
  },
  {
   "cell_type": "markdown",
   "metadata": {},
   "source": [
    "### any\n",
    "\n",
    "---\n",
    "<br>\n",
    "\n",
    "`any(x)`는 `x`중 하나라도 참이 있을 경우 `True`를 리턴하고, `x`가 모두 거짓일 경우에만 `False`를 리턴한다. `all(x)`의 반대 경우라고 할 수 있다.\n",
    "\n",
    "```python\n",
    ">>> any([1, 2, 3, 0])\n",
    "True\n",
    ">>> any([0, \"\"])\n",
    "False\n",
    "```\n",
    "\n",
    "논리학적으로 `not all(x)`와 같다."
   ]
  },
  {
   "cell_type": "code",
   "execution_count": null,
   "metadata": {},
   "outputs": [],
   "source": [
    "any([1, 2, 3, 0]), any([0, \"\"])"
   ]
  },
  {
   "cell_type": "markdown",
   "metadata": {},
   "source": [
    "### chr\n",
    "\n",
    "---\n",
    "<br>\n",
    "\n",
    "`chr(i)`는 아스키(ASCII) 코드값을 입력으로 받아 그 코드에 해당하는 문자를 출력하는 함수이다.\n",
    "\n",
    "> ※ 아스키 코드란 0에서 127 사이의 숫자들을 각각 하나의 문자 또는 기호에 대응시켜 놓은 것이다.\n",
    "\n",
    "```python\n",
    ">>> chr(97)\n",
    "'a'\n",
    ">>> chr(48)\n",
    "'0'\n",
    "```\n",
    "\n",
    "> 태초의 ASCII는 영문과 기호 몇 개만 표현할 수만 있으면 됐기에 코드가 128개 밖에 필요 없었지만  \n",
    "나중에 한글 등 다른 언어가 추가되면서 확장할 필요가 생겼어요.  \n",
    "[영문 + 다른 나라 언어 1개] 이런 식으로 묶어서 하나의 \"인코딩\"이라는 것을 만들었고  \n",
    "저희는 'euc-kr'이라는 인코딩을 자주 씁니다.\n",
    "\n",
    "```python\n",
    ">>> chr(44032)\n",
    "'가'\n",
    ">>> chr(55203)\n",
    "'힣'\n",
    "```"
   ]
  },
  {
   "cell_type": "code",
   "execution_count": null,
   "metadata": {},
   "outputs": [],
   "source": [
    "chr(97), chr(48), chr(44032), chr(55203)"
   ]
  },
  {
   "cell_type": "markdown",
   "metadata": {},
   "source": [
    "### dir ★\n",
    "\n",
    "---\n",
    "<br>\n",
    "\n",
    "`dir`은 객체가 자체적으로 가지고 있는 변수나 함수를 보여 준다. 아래 예는 리스트와 딕셔너리 객체의 관련 함수들(메서드)을 보여 주는 예이다. 우리가 02장에서 살펴보았던 자료형 관련 함수들을 만나볼 수 있을 것이다.\n",
    "\n",
    "```python\n",
    ">>> dir([1, 2, 3])\n",
    "['append', 'count', 'extend', 'index', 'insert', 'pop',...]\n",
    ">>> dir({'1':'a'})\n",
    "['clear', 'copy', 'get', 'has_key', 'items', 'keys',...]\n",
    "```"
   ]
  },
  {
   "cell_type": "code",
   "execution_count": null,
   "metadata": {},
   "outputs": [],
   "source": [
    "dir([1, 2, 3]), dir({'1': 'a'})"
   ]
  },
  {
   "cell_type": "markdown",
   "metadata": {},
   "source": [
    "### divmod\n",
    "\n",
    "---\n",
    "<br>\n",
    "\n",
    "`divmod(a, b)`는 2개의 숫자를 입력으로 받는다. 그리고 `a`를 `b`로 나눈 몫과 나머지를 튜플 형태로 리턴하는 함수이다.\n",
    "\n",
    "```python\n",
    ">>> divmod(7, 3)\n",
    "(2, 1)\n",
    "```"
   ]
  },
  {
   "cell_type": "code",
   "execution_count": null,
   "metadata": {},
   "outputs": [],
   "source": [
    "divmod(7, 3)"
   ]
  },
  {
   "cell_type": "markdown",
   "metadata": {},
   "source": [
    "### enumerate ★\n",
    "\n",
    "---\n",
    "<br>\n",
    "\n",
    "`enumerate`는 \"열거하다\"라는 뜻이다. 이 함수는 순서가 있는 자료형(리스트, 튜플, 문자열)을 입력으로 받아 인덱스 값을 포함하는 `enumerate` 객체를 리턴한다.\n",
    "\n",
    "> ※ 보통 `enumerate` 함수는 아래 예제처럼 `for`문과 함께 자주 사용된다.\n",
    "\n",
    "```python\n",
    ">>> for i, name in enumerate(['body', 'foo', 'bar']):\n",
    "...     print(i, name)\n",
    "...\n",
    "0 body\n",
    "1 foo\n",
    "2 bar\n",
    "```\n",
    "\n",
    "`for`문처럼 반복되는 구간에서 객체가 현재 어느 위치에 있는지 알려주는 인덱스 값이 필요할때 `enumerate` 함수를 사용하면 매우 유용하다."
   ]
  },
  {
   "cell_type": "code",
   "execution_count": null,
   "metadata": {},
   "outputs": [],
   "source": [
    "for i, name in enumerate(['body', 'foo', 'bar']):\n",
    "    print(i, name)"
   ]
  },
  {
   "cell_type": "markdown",
   "metadata": {},
   "source": [
    "### eval\n",
    "\n",
    "---\n",
    "<br>\n",
    "\n",
    "`eval(expression)`은 실행 가능한 문자열(`1+2`, `'hi' + 'a'` 같은 것)을 입력으로 받아 문자열을 실행한 결과값을 리턴하는 함수이다.\n",
    "\n",
    "```python\n",
    ">>> eval('1+2')\n",
    "3\n",
    ">>> eval(\"'hi' + 'a'\")\n",
    "'hia'\n",
    ">>> eval('divmod(4, 3)')\n",
    "(1, 1)\n",
    "```\n",
    "\n",
    "`eval`은 표현식(expression)만 실행이 가능하다. 표현식 이외의 문장(statements)들은 `exec`함수로 실행이 가능하다.  \n",
    "> ### expression vs. statements\n",
    "표현식(expression)은 하나의 값으로 축약될 수 있는 단순한 문장이고 문장(statements)은 표현식을 표현한 모든 코드들이다.  정확한 정의는 https://stackoverflow.com/questions/4728073/what-is-the-difference-between-an-expression-and-a-statement-in-python 를 참조하세요!\n",
    "\n",
    "다음과 같은 코드를 `eval`로 실행하면 오류가 난다.\n",
    "```python\n",
    "eval('for i, name in enumerate([\"body\", \"foo\", \"bar\"]): print(i, name)')\n",
    "```\n",
    "```python\n",
    "Traceback (most recent call last):\n",
    "\n",
    "  File \"/Library/Frameworks/Python.framework/Versions/3.7/lib/python3.7/site-packages/IPython/core/interactiveshell.py\", line 3267, in run_code\n",
    "    exec(code_obj, self.user_global_ns, self.user_ns)\n",
    "\n",
    "  File \"<ipython-input-3-378ca6855473>\", line 2, in <module>\n",
    "    eval('for i, name in enumerate([\"body\", \"foo\", \"bar\"]): print(i, name)')\n",
    "\n",
    "  File \"<string>\", line 1\n",
    "    for i, name in enumerate([\"body\", \"foo\", \"bar\"]): print(i, name)\n",
    "      ^\n",
    "SyntaxError: invalid syntax\n",
    "```\n",
    "\n",
    "<br>\n",
    "`exec`으로 실행해주면 된다.\n",
    "\n",
    "```python\n",
    "eval('for i, name in enumerate([\"body\", \"foo\", \"bar\"]): print(i, name)')\n",
    "```\n",
    "```python\n",
    "0 body\n",
    "1 foo\n",
    "2 bar\n",
    "```"
   ]
  },
  {
   "cell_type": "code",
   "execution_count": 4,
   "metadata": {
    "scrolled": true
   },
   "outputs": [
    {
     "name": "stdout",
     "output_type": "stream",
     "text": [
      "3 hia (1, 1)\n",
      "0 body\n",
      "1 foo\n",
      "2 bar\n"
     ]
    }
   ],
   "source": [
    "print(eval('1+2'), eval(\"'hi' + 'a'\"), eval('divmod(4, 3)'))\n",
    "exec('for i, name in enumerate([\"body\", \"foo\", \"bar\"]): print(i, name)')"
   ]
  },
  {
   "cell_type": "markdown",
   "metadata": {},
   "source": [
    "### filter\n",
    "\n",
    "---\n",
    "<br>\n",
    "\n",
    "`filter`란 무엇인가를 걸러낸다는 뜻으로, `filter` 함수도 동일한 의미를 가진다. `filter` 함수는 인수로 필터 역할을 할 함수 객체, `iterable`을 받아 `iterable`의 값들 중 저 필터 함수에 넣은 결과값이 참인 값들만 반환한다.  \n",
    "음...예시 하나만 보면 된다!\n",
    "\n",
    "```python\n",
    "def positive(x):\n",
    "    return x > 0\n",
    "\n",
    "print(list(filter(positive, [1, -3, 2, 0, -5, 6])))\n",
    "```\n",
    "```python\n",
    "[1, 2, 6]\n",
    "```\n",
    "`iterable`의 원소들을 `positive`에 일일이 다 넣어 참인 값들만 반환 했다!  \n",
    "<br>\n",
    "그리고 `lambda`(바로 아래에 나옴)를 쓰면 좀 더 깔끔하게 구현이 가능하다.\n",
    "```python\n",
    ">>> list(filter(lambda x: x > 0, [1, -3, 2, 0, -5, 6]))\n",
    "[1, 2, 6]\n",
    "```"
   ]
  },
  {
   "cell_type": "code",
   "execution_count": null,
   "metadata": {},
   "outputs": [],
   "source": [
    "# 이해 안 될테니 직접 구현해 보세요"
   ]
  },
  {
   "cell_type": "markdown",
   "metadata": {},
   "source": [
    "### hex\n",
    "\n",
    "---\n",
    "<br>\n",
    "\n",
    "`hex(x)`는 정수값을 입력받아 16진수(hexadecimal)로 변환하여 문자열로 리턴하는 함수이다.\n",
    "\n",
    "```python\n",
    ">>> hex(234)\n",
    "'0xea'\n",
    ">>> hex(3)\n",
    "'0x3'\n",
    "```"
   ]
  },
  {
   "cell_type": "code",
   "execution_count": 5,
   "metadata": {},
   "outputs": [
    {
     "data": {
      "text/plain": [
       "('0xea', '0x3')"
      ]
     },
     "execution_count": 5,
     "metadata": {},
     "output_type": "execute_result"
    }
   ],
   "source": [
    "hex(234), hex(3)"
   ]
  },
  {
   "cell_type": "markdown",
   "metadata": {},
   "source": [
    "### id ★\n",
    "\n",
    "---\n",
    "<br>\n",
    "\n",
    "id(object)는 객체를 입력받아 객체의 고유 주소값(레퍼런스)을 리턴하는 함수이다.\n",
    "\n",
    "```python\n",
    ">>> a = 3\n",
    ">>> id(3)\n",
    "135072304\n",
    ">>> id(a)\n",
    "135072304\n",
    ">>> b = a\n",
    ">>> id(b)\n",
    "135072304\n",
    "```\n",
    "\n",
    "`id`값이 같다면 같은 객체이다."
   ]
  },
  {
   "cell_type": "code",
   "execution_count": null,
   "metadata": {},
   "outputs": [],
   "source": [
    "a = 3\n",
    "b = a\n",
    "id(3), id(a), id(b)"
   ]
  },
  {
   "cell_type": "markdown",
   "metadata": {},
   "source": [
    "### input ★\n",
    "\n",
    "---\n",
    "<br>\n",
    "\n",
    "`input([prompt])`은 사용자 입력을 받는 함수이다. 입력 인수로 문자열을 주면 아래의 세 번째 예에서 볼 수 있듯이 그 문자열은 프롬프트가 된다.  \n",
    "<br>\n",
    "(※ [ ] 기호는 괄호 안의 내용을 생략할 수 있다는 관례적인 표기법임을 기억하자.)\n",
    "\n",
    "```python\n",
    ">>> a = input()\n",
    "hi\n",
    ">>> a\n",
    "'hi'\n",
    ">>> b = input(\"Enter: \")\n",
    "Enter: hi\n",
    ">>> b\n",
    "'hi'\n",
    "```"
   ]
  },
  {
   "cell_type": "code",
   "execution_count": null,
   "metadata": {},
   "outputs": [],
   "source": [
    "a = input('Enter : ')\n",
    "print(a)"
   ]
  },
  {
   "cell_type": "markdown",
   "metadata": {},
   "source": [
    "### int ★\n",
    "\n",
    "---\n",
    "<br>\n",
    "\n",
    "`int(x)`는 문자열 형태의 숫자나 소수점이 있는 숫자 등을 정수 형태로 리턴하는 함수로, 정수를 입력으로 받으면 그대로 리턴한다.\n",
    "\n",
    "```python\n",
    ">>> int('3')\n",
    "3\n",
    ">>> int(3.4)  # 버림 함수로도 사용 가능하다.\n",
    "3\n",
    "```\n",
    "\n",
    "`int(x, radix)`는 `radix` 진수로 표현된 문자열 x를 10진수로 변환하여 리턴한다.\n",
    "```python\n",
    ">>> int('11', 2)  # 2진법의 11은 10진법으로 3이다.\n",
    "3\n",
    ">>> int('1A', 16)  # 16진법의 1A는 10진법으로 26이다.\n",
    "26\n",
    "```"
   ]
  },
  {
   "cell_type": "code",
   "execution_count": null,
   "metadata": {},
   "outputs": [],
   "source": [
    "print(int('3'), int(3.4))\n",
    "print(int('11', 2), int('1A', 16))"
   ]
  },
  {
   "cell_type": "markdown",
   "metadata": {},
   "source": [
    "### isinstance ★\n",
    "\n",
    "---\n",
    "<br>\n",
    "\n",
    "`isinstance(object, class)`는 첫 번째 인수로 인스턴스, 두 번째 인수로 클래스 이름을 받는다. 입력으로 받은 인스턴스가 그 클래스의 인스턴스인지를 판단하여 참이면 `True`, 거짓이면 `False`를 리턴한다.\n",
    "\n",
    "```python\n",
    ">>> class Person: pass\n",
    "...\n",
    ">>> a = Person()\n",
    ">>> isinstance(a, Person)\n",
    "True\n",
    ">>> b = 3\n",
    ">>> isinstance(b, Person)\n",
    "False\n",
    "```"
   ]
  },
  {
   "cell_type": "code",
   "execution_count": null,
   "metadata": {},
   "outputs": [],
   "source": [
    "class Person:\n",
    "    pass\n",
    "\n",
    "a = Person()\n",
    "print(isinstance(a, Person))\n",
    "b = 3\n",
    "print(isinstance(b, Person))"
   ]
  },
  {
   "cell_type": "markdown",
   "metadata": {},
   "source": [
    "### len ★\n",
    "\n",
    "---\n",
    "<br>\n",
    "\n",
    "`len(s)`은 입력값 `s`의 길이(요소의 전체 개수)를 리턴하는 함수이다.\n",
    "\n",
    "```python\n",
    ">>> len(\"python\")\n",
    "6\n",
    ">>> len([1,2,3])\n",
    "3\n",
    ">>> len((1, 'a'))\n",
    "2\n",
    "```"
   ]
  },
  {
   "cell_type": "code",
   "execution_count": null,
   "metadata": {},
   "outputs": [],
   "source": [
    "len('python'), len([1, 2, 3]), len((1, 'a'))"
   ]
  },
  {
   "cell_type": "markdown",
   "metadata": {},
   "source": [
    "### list ★\n",
    "\n",
    "---\n",
    "<br>\n",
    "\n",
    "`list(s)`는 반복 가능한 자료형( `iterable` ) `s`를 입력받아 리스트로 만들어 리턴하는 함수이다.\n",
    "\n",
    "```python\n",
    ">>> list(\"python\")\n",
    "['p', 'y', 't', 'h', 'o', 'n']\n",
    ">>> list((1,2,3))\n",
    "[1, 2, 3]\n",
    "```"
   ]
  },
  {
   "cell_type": "code",
   "execution_count": null,
   "metadata": {},
   "outputs": [],
   "source": [
    "print(list('python'))\n",
    "print(list(range(10)))"
   ]
  },
  {
   "cell_type": "markdown",
   "metadata": {},
   "source": [
    "### map ★\n",
    "\n",
    "---\n",
    "<br>\n",
    "\n",
    "`map(f, iterable)`은 함수( `f` )와 반복 가능한( `iterable` ) 자료형을 입력으로 받는다. `map`은 입력받은 자료형의 각 요소가 함수 `f`에 의해 수행된 결과를 묶어서 리턴하는 함수이다.\n",
    "\n",
    "```python\n",
    "def two_times(numberList):\n",
    "    result = []\n",
    "    for number in numberList:\n",
    "        result.append(number*2)\n",
    "    return result\n",
    "\n",
    "result = two_times([1, 2, 3, 4])\n",
    "print(result)\n",
    "```\n",
    "```python\n",
    "[2, 4, 6, 8]\n",
    "```\n",
    "\n",
    "위의 예제를 `map`함수를 이용해 간단하게 바꿀 수 있다.\n",
    "```python\n",
    ">>> def two_times(x): \n",
    "...     return x*2\n",
    "...\n",
    ">>> list(map(two_times, [1, 2, 3, 4]))\n",
    "[2, 4, 6, 8]\n",
    "```\n",
    "\n",
    "`lambda`를 이용해 더 간단하게 만들 수 있다.\n",
    "```python\n",
    ">>> list(map(lambda a: a*2, [1, 2, 3, 4]))\n",
    "[2, 4, 6, 8]\n",
    "```"
   ]
  },
  {
   "cell_type": "code",
   "execution_count": null,
   "metadata": {},
   "outputs": [],
   "source": [
    "list(map(lambda a: a*2, [1, 2, 3, 4]))"
   ]
  },
  {
   "cell_type": "markdown",
   "metadata": {},
   "source": [
    "### max\n",
    "\n",
    "---\n",
    "<br>\n",
    "\n",
    "`max(iterable)`는 인수로 반복 가능한 자료형을 입력받아 그 최대값을 리턴하는 함수이다.\n",
    "\n",
    "```python\n",
    ">>> max([1, 2, 3])\n",
    "3\n",
    ">>> max(\"python\")\n",
    "'y'\n",
    "```"
   ]
  },
  {
   "cell_type": "code",
   "execution_count": null,
   "metadata": {},
   "outputs": [],
   "source": [
    "max([1, 2, 3]), max(\"python\")"
   ]
  },
  {
   "cell_type": "markdown",
   "metadata": {},
   "source": [
    "### min\n",
    "\n",
    "---\n",
    "<br>\n",
    "\n",
    "`min(iterable)`은 `max` 함수와 반대로, 인수로 반복 가능한 자료형을 입력받아 그 최소값을 리턴하는 함수이다.\n",
    "\n",
    "```python\n",
    ">>> min([1, 2, 3])\n",
    "1\n",
    ">>> min(\"python\")\n",
    "'h'\n",
    "```"
   ]
  },
  {
   "cell_type": "code",
   "execution_count": null,
   "metadata": {},
   "outputs": [],
   "source": [
    "min([1, 2, 3]), min('python')"
   ]
  },
  {
   "cell_type": "markdown",
   "metadata": {},
   "source": [
    "### oct\n",
    "\n",
    "---\n",
    "<br>\n",
    "\n",
    "`oct(x)`는 정수 형태의 숫자를 8진수 문자열로 바꾸어 리턴하는 함수이다.\n",
    "\n",
    "```python\n",
    ">>> oct(34)\n",
    "'0o42'\n",
    ">>> oct(12345)\n",
    "'0o30071'\n",
    "```\n",
    "\n",
    "> 통상적으로 `'0o'`는 8진법, `'0x'`는 16진법을 의미한다."
   ]
  },
  {
   "cell_type": "code",
   "execution_count": null,
   "metadata": {},
   "outputs": [],
   "source": [
    "oct(34), oct(12345)"
   ]
  },
  {
   "cell_type": "markdown",
   "metadata": {},
   "source": [
    "### open\n",
    "\n",
    "---\n",
    "<br>\n",
    "\n",
    "`open(filename, [mode])`은 \"파일 이름\"과 \"읽기 방법\"을 입력받아 파일 객체를 리턴하는 함수이다. 읽기 방법(`mode`)이 생략되면 기본값인 읽기 전용 모드(`r`)로 파일 객체를 만들어 리턴한다.  \n",
    "\n",
    "| mode |      설명     |\n",
    "|:----:|:-------------:|\n",
    "|   r  |   읽기 모드   |\n",
    "|   w  |   쓰기 모드   |\n",
    "|   a  |   추가 모드   |\n",
    "|   b  | 바이너리 모드 |\n",
    "\n",
    "```python\n",
    "\n",
    "```"
   ]
  },
  {
   "cell_type": "markdown",
   "metadata": {},
   "source": [
    "### \n",
    "\n",
    "---\n",
    "<br>\n",
    "\n",
    "\n",
    "\n",
    "```python\n",
    "\n",
    "```"
   ]
  }
 ],
 "metadata": {
  "kernelspec": {
   "display_name": "Python 3",
   "language": "python",
   "name": "python3"
  },
  "language_info": {
   "codemirror_mode": {
    "name": "ipython",
    "version": 3
   },
   "file_extension": ".py",
   "mimetype": "text/x-python",
   "name": "python",
   "nbconvert_exporter": "python",
   "pygments_lexer": "ipython3",
   "version": "3.6.8"
  }
 },
 "nbformat": 4,
 "nbformat_minor": 2
}

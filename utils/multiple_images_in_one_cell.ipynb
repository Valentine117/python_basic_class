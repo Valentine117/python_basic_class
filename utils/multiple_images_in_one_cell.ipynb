{
 "cells": [
  {
   "cell_type": "code",
   "execution_count": null,
   "metadata": {},
   "outputs": [],
   "source": [
    "import platform, os\n",
    "env = platform.system()\n",
    "os.chdir('..')\n",
    "if 'Windows' in env:\n",
    "    !dir\n",
    "else:  # Linux or Mac(Darwin)\n",
    "    !ls"
   ]
  },
  {
   "cell_type": "code",
   "execution_count": null,
   "metadata": {},
   "outputs": [],
   "source": [
    "target_file = os.path.join('04장 프로그램의 입력과 출력은 어떻게 해야 할까', '04-3 파일 읽고 쓰기.ipynb')"
   ]
  },
  {
   "cell_type": "code",
   "execution_count": null,
   "metadata": {},
   "outputs": [],
   "source": [
    "import json\n",
    "\n",
    "with open(target_file, 'r', encoding='utf-8') as f:\n",
    "    data = f.read()\n",
    "data_json = json.loads(data)"
   ]
  },
  {
   "cell_type": "code",
   "execution_count": null,
   "metadata": {},
   "outputs": [],
   "source": [
    "image2_idx = -1\n",
    "image2 = data_json['cells'][image2_idx]['attachments']['image.png']['image/png']\n",
    "len(image2)"
   ]
  },
  {
   "cell_type": "code",
   "execution_count": null,
   "metadata": {},
   "outputs": [],
   "source": [
    "image1_idx = -2\n",
    "data_json['cells'][image1_idx]['attachments']['image2.png'] = {'image/png': image2}"
   ]
  },
  {
   "cell_type": "code",
   "execution_count": null,
   "metadata": {},
   "outputs": [],
   "source": [
    "data_json['cells'][-2]"
   ]
  },
  {
   "cell_type": "code",
   "execution_count": null,
   "metadata": {},
   "outputs": [],
   "source": [
    "with open(target_file, 'w', encoding='utf-8') as f:\n",
    "    data = f.write(json.dumps(data_json))"
   ]
  },
  {
   "cell_type": "code",
   "execution_count": null,
   "metadata": {},
   "outputs": [],
   "source": []
  }
 ],
 "metadata": {
  "kernelspec": {
   "display_name": "Python 3",
   "language": "python",
   "name": "python3"
  },
  "language_info": {
   "codemirror_mode": {
    "name": "ipython",
    "version": 3
   },
   "file_extension": ".py",
   "mimetype": "text/x-python",
   "name": "python",
   "nbconvert_exporter": "python",
   "pygments_lexer": "ipython3",
   "version": "3.7.1"
  }
 },
 "nbformat": 4,
 "nbformat_minor": 2
}

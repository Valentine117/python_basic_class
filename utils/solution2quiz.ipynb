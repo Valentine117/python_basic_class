{
 "cells": [
  {
   "cell_type": "code",
   "execution_count": null,
   "metadata": {},
   "outputs": [],
   "source": [
    "!ls"
   ]
  },
  {
   "cell_type": "code",
   "execution_count": 3,
   "metadata": {},
   "outputs": [],
   "source": [
    "# 작업할 파일명\n",
    "sol_file = '../05장 파이썬 날개달기/05장_클래스_실습(Sol).ipynb'"
   ]
  },
  {
   "cell_type": "code",
   "execution_count": 4,
   "metadata": {},
   "outputs": [],
   "source": [
    "import json\n",
    "\n",
    "with open(sol_file, 'r', encoding='utf-8') as f:\n",
    "    data = f.read()\n",
    "\n",
    "data_json = json.loads(data)"
   ]
  },
  {
   "cell_type": "code",
   "execution_count": 5,
   "metadata": {},
   "outputs": [
    {
     "data": {
      "text/plain": [
       "[{'cell_type': 'markdown',\n",
       "  'metadata': {},\n",
       "  'source': ['# [05장 클래스] 실습 솔루션\\n',\n",
       "   '<br>\\n',\n",
       "   '\\n',\n",
       "   '## 간단한 설띵\\n',\n",
       "   '\\n',\n",
       "   '- 문제 번호 옆에 ◆ 표시가 있으면 배우지 않은 내용이 등장하니 조금만 생각해보고 빨리 솔루션 보시는 걸 추천합니다.\\n',\n",
       "   '- 문제 번호 옆에 ★ 표시가 있으면 어려운 문제지만 풀 수 있습니다. 고민해보세요!\\n',\n",
       "   '- 문제 번호 옆에 ★★ 표시가 있으면 아주 어려운 문제입니다. 시간은 오래걸리지만 실력 향상에 아주 큰 도움이 됩니다.\\n',\n",
       "   '- 문제 푸는 순서는 상관 없습니다. 알아서 푸세요.']},\n",
       " {'cell_type': 'markdown',\n",
       "  'metadata': {},\n",
       "  'source': ['# 도형들 1\\n',\n",
       "   '\\n',\n",
       "   '인자 `x`를 입력받아 저장하고 `calcarea` 메소드로 넓이를 출력하는 정삼각형 클래스 `RegularTriangle`, 정사각형 클래스 `Square`와 원 클래스 `Circle`을 만들자.\\n',\n",
       "   '<br>\\n',\n",
       "   '\\n',\n",
       "   '### hint\\n',\n",
       "   '- 한 변의 길이가 $x$인 정삼각형, 정사각형의 넓이는 각각 ${\\\\sqrt{3} \\\\over 4} x^2$, $x^2$이고 반지름이 $x$인 원의 넓이는 $\\\\pi x^2$이다.\\n',\n",
       "   '- 세 클래스 모두 생성자(`__init__`)에서 인자 `x`를 입력받아 `self.x`에 저장한다.\\n',\n",
       "   '- `math` 모듈을 이용하면 `pi`와 `sqrt`(제곱근)를 사용할 수 있다.\\n',\n",
       "   '```python\\n',\n",
       "   '>>> from math import pi, sqrt\\n',\n",
       "   '>>> pi\\n',\n",
       "   '3.141592653589793\\n',\n",
       "   '>>> sqrt(3)\\n',\n",
       "   '1.7320508075688772\\n',\n",
       "   '```\\n',\n",
       "   '\\n',\n",
       "   '<br>\\n',\n",
       "   '\\n',\n",
       "   '---\\n',\n",
       "   '\\n',\n",
       "   '목표 : \\n',\n",
       "   '\\n',\n",
       "   '다음을 수행\\n',\n",
       "   '\\n',\n",
       "   '```python\\n',\n",
       "   't = RegularTriangle(2)\\n',\n",
       "   's = Square(5)\\n',\n",
       "   'c = Circle(3)\\n',\n",
       "   't.calcarea()\\n',\n",
       "   's.calcarea()\\n',\n",
       "   'c.calcarea()\\n',\n",
       "   '```\\n',\n",
       "   '\\n',\n",
       "   '출력  \\n',\n",
       "   '```\\n',\n",
       "   '1.7320508075688772\\n',\n",
       "   '25\\n',\n",
       "   '28.274333882308138\\n',\n",
       "   '```']},\n",
       " {'cell_type': 'code',\n",
       "  'execution_count': None,\n",
       "  'metadata': {},\n",
       "  'outputs': [],\n",
       "  'source': ['from math import pi, sqrt']}]"
      ]
     },
     "execution_count": 5,
     "metadata": {},
     "output_type": "execute_result"
    }
   ],
   "source": [
    "data_json['cells'][:3]"
   ]
  },
  {
   "cell_type": "code",
   "execution_count": 6,
   "metadata": {},
   "outputs": [],
   "source": [
    "for cell in data_json['cells']:\n",
    "    if cell['cell_type'] == 'code' and 'Sol' in cell['source'][0]:\n",
    "        if '추가' in cell['source'][0]:\n",
    "            data_json['cells'].remove(cell)\n",
    "            continue\n",
    "        cell['source'] = ['']"
   ]
  },
  {
   "cell_type": "code",
   "execution_count": 7,
   "metadata": {},
   "outputs": [],
   "source": [
    "data_json['cells'][0]['source'][0] = data_json['cells'][0]['source'][0].replace(' 솔루션', '')"
   ]
  },
  {
   "cell_type": "code",
   "execution_count": 8,
   "metadata": {},
   "outputs": [],
   "source": [
    "with open(sol_file.replace('(Sol)', ''), 'w') as f:\n",
    "    f.write(json.dumps(data_json))"
   ]
  },
  {
   "cell_type": "code",
   "execution_count": null,
   "metadata": {},
   "outputs": [],
   "source": []
  }
 ],
 "metadata": {
  "kernelspec": {
   "display_name": "Python 3",
   "language": "python",
   "name": "python3"
  },
  "language_info": {
   "codemirror_mode": {
    "name": "ipython",
    "version": 3
   },
   "file_extension": ".py",
   "mimetype": "text/x-python",
   "name": "python",
   "nbconvert_exporter": "python",
   "pygments_lexer": "ipython3",
   "version": "3.6.8"
  }
 },
 "nbformat": 4,
 "nbformat_minor": 2
}

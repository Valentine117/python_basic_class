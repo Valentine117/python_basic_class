{
 "cells": [
  {
   "cell_type": "markdown",
   "metadata": {},
   "source": [
    "# [04장 프로그램의 입력과 출력은 어떻게 해야 할까?] 실습 솔루션\n",
    "<br>\n",
    "\n",
    "## 간단한 설띵\n",
    "\n",
    "- 문제 번호 옆에 ◆ 표시가 있으면 배우지 않은 내용이 등장하니 조금만 생각해보고 빨리 솔루션 보시는 걸 추천합니다.\n",
    "- 문제 번호 옆에 ★ 표시가 있으면 어려운 문제지만 풀 수 있습니다. 고민해보세요!\n",
    "- 문제 번호 옆에 ★★ 표시가 있으면 아주 어려운 문제입니다. 시간은 오래걸리지만 실력 향상에 아주 큰 도움이 됩니다.\n",
    "- 문제 푸는 순서는 상관 없습니다. 알아서 푸세요."
   ]
  },
  {
   "cell_type": "code",
   "execution_count": null,
   "metadata": {},
   "outputs": [],
   "source": [
    "# 이거 파일로 만들어야 댐\n",
    "'''16170\n",
    "36000\n",
    "178200\n",
    "34960\n",
    "953860\n",
    "142620\n",
    "51940\n",
    "68580\n",
    "114040\n",
    "363200\n",
    "813400\n",
    "101000\n",
    "7100\n",
    "41700\n",
    "125130\n",
    "710\n",
    "51300\n",
    "606660\n",
    "177020\n",
    "1227580\n",
    "34710\n",
    "233700\n",
    "3720\n",
    "36000\n",
    "216450\n",
    "79320\n",
    "4140\n",
    "26320\n",
    "171960\n",
    "34270\n",
    "60380\n",
    "540850\n",
    "38890\n",
    "17790\n",
    "94690'''"
   ]
  }
 ],
 "metadata": {
  "kernelspec": {
   "display_name": "Python 3",
   "language": "python",
   "name": "python3"
  },
  "language_info": {
   "codemirror_mode": {
    "name": "ipython",
    "version": 3
   },
   "file_extension": ".py",
   "mimetype": "text/x-python",
   "name": "python",
   "nbconvert_exporter": "python",
   "pygments_lexer": "ipython3",
   "version": "3.6.1"
  }
 },
 "nbformat": 4,
 "nbformat_minor": 2
}

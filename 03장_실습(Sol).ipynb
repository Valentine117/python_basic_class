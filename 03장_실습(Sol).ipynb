{
 "cells": [
  {
   "cell_type": "markdown",
   "metadata": {},
   "source": [
    "# [03장 프로그램의 구조를 쌓는다 : 제어문] 실습 솔루션\n",
    "<br>\n",
    "\n",
    "## 간단한 설띵\n",
    "\n",
    "- 문제 번호 옆에 ◆ 표시가 있으면 배우지 않은 내용이 등장하니 조금만 생각해보고 빨리 솔루션 보시는 걸 추천합니다.\n",
    "- 문제 번호 옆에 ★ 표시가 있으면 어려운 문제지만 풀 수 있습니다. 고민해보세요!\n",
    "- 문제 번호 옆에 ★★ 표시가 있으면 아주 어려운 문제입니다. 시간은 오래걸리지만 실력 향상에 아주 큰 도움이 됩니다.\n",
    "- 문제 푸는 순서는 상관 없습니다. 알아서 푸세요."
   ]
  },
  {
   "cell_type": "markdown",
   "metadata": {},
   "source": [
    "# 시험 성적\n",
    "시험 점수($0 \\le N \\le 100$)을 입력받아 90 ~ 100점은 A, 80 ~ 89점은 B, 70 ~ 79점은 C, 60 ~ 69점은 D, 나머지 점수는 F를 출력하는 코드를 작성하여라.  \n",
    "<br>\n",
    "\n",
    "### hint\n",
    "- `if` / `elif` / `else`를 이용해보자!"
   ]
  },
  {
   "cell_type": "raw",
   "metadata": {},
   "source": [
    "# test1\n",
    "score : 70\n",
    "C\n",
    "\n",
    "# test2\n",
    "score : 100\n",
    "A"
   ]
  },
  {
   "cell_type": "code",
   "execution_count": 5,
   "metadata": {},
   "outputs": [
    {
     "name": "stdout",
     "output_type": "stream",
     "text": [
      "score : 100\n",
      "A\n"
     ]
    }
   ],
   "source": [
    "score = int(input('score : '))\n",
    "if 90 <= score <= 100:\n",
    "    print('A')\n",
    "elif 80 <= score < 90:\n",
    "    print('B')\n",
    "elif 70 <= score < 80:\n",
    "    print('C')\n",
    "elif 60 <= score < 70:\n",
    "    print('D')\n",
    "else:\n",
    "    print('F')"
   ]
  },
  {
   "cell_type": "markdown",
   "metadata": {},
   "source": [
    "# 정렬\n",
    "주어진 배열을 정렬하는 코드를 작성하여라.  \n",
    "<br>\n",
    "\n",
    "### hint\n",
    "- `sorted` 사용금지\n",
    "- 겹치는 숫자는 없다.\n",
    "- `arr`를 수정한다.\n",
    "- 배열의 원소는 모두 `int`이다.\n",
    "- 오름차순으로 정렬한다.\n",
    "- 정렬된 `arr`를 출력한다."
   ]
  },
  {
   "cell_type": "raw",
   "metadata": {},
   "source": [
    "[1, 4, 5, 6, 7, 8, 10, 17, 26, 34, 99]"
   ]
  },
  {
   "cell_type": "code",
   "execution_count": 7,
   "metadata": {},
   "outputs": [],
   "source": [
    "arr = [34, 1, 8, 4, 17, 99, 6, 5, 26, 7, 10]"
   ]
  },
  {
   "cell_type": "code",
   "execution_count": 9,
   "metadata": {},
   "outputs": [
    {
     "name": "stdout",
     "output_type": "stream",
     "text": [
      "[1, 4, 5, 6, 7, 8, 10, 17, 26, 34, 99]\n"
     ]
    }
   ],
   "source": [
    "cnt = -1  # count의 줄임말, -1은 0이 아닌 아무 숫자나 넣은 것\n",
    "while cnt != 0:\n",
    "    cnt = 0\n",
    "    for i in range(len(arr)-1):\n",
    "        if arr[i] > arr[i+1]:\n",
    "            arr[i], arr[i+1] = arr[i+1], arr[i]\n",
    "            cnt += 1\n",
    "print(arr)"
   ]
  },
  {
   "cell_type": "markdown",
   "metadata": {},
   "source": [
    "# 별 찍기 1\n",
    "첫째 줄에서 N을 입력받은 뒤, 1번째 줄에는 1개, 2번째 줄에는 2개, N번째 줄에는 N개의 별을 출력하는 코드를 작성하여라. 출력은 아래와 같다.  \n",
    "<br>\n",
    "### hint\n",
    "- for, range 와 str의 \\*연산 이용"
   ]
  },
  {
   "cell_type": "raw",
   "metadata": {},
   "source": [
    "N : 6\n",
    "*\n",
    "**\n",
    "***\n",
    "****\n",
    "*****\n",
    "******"
   ]
  },
  {
   "cell_type": "code",
   "execution_count": null,
   "metadata": {},
   "outputs": [],
   "source": [
    "N = int(input('N : '))\n",
    "for i in range(N):\n",
    "    print('*' * (i + 1))"
   ]
  },
  {
   "cell_type": "markdown",
   "metadata": {},
   "source": [
    "# 별 찍기 2\n",
    "첫째 줄에서 N을 입력받은 뒤, 아래와 같이 출력하는 코드를 작성하여라.  \n",
    "<br>\n",
    "### hint\n",
    "- 띄어쓰기 이용"
   ]
  },
  {
   "cell_type": "raw",
   "metadata": {},
   "source": [
    "N : 7\n",
    "      *\n",
    "     **\n",
    "    ***\n",
    "   ****\n",
    "  *****\n",
    " ******\n",
    "*******"
   ]
  },
  {
   "cell_type": "code",
   "execution_count": null,
   "metadata": {},
   "outputs": [],
   "source": [
    "N = int(input('N : '))\n",
    "for i in range(N):\n",
    "    print(' ' * (N - i - 1) + '*' * (i + 1))"
   ]
  },
  {
   "cell_type": "markdown",
   "metadata": {},
   "source": [
    "# 별 찍기 3 (◆)\n",
    "별 찍기 2를 str.format을 이용하여 풀어라.  \n",
    "<br>\n",
    "### hint\n",
    "- `'some string {}'.format(object)`를 이용\n",
    "- string format code를 활용한 정렬을 이용"
   ]
  },
  {
   "cell_type": "code",
   "execution_count": null,
   "metadata": {},
   "outputs": [],
   "source": [
    "N = int(input('N : '))\n",
    "for i in range(N):\n",
    "    print('{:>{N}}'.format('*' * (i+1), N=N))  # 배우지 않은 방법인데 당황하지 마시고 외우세요!"
   ]
  },
  {
   "cell_type": "markdown",
   "metadata": {},
   "source": [
    "# 별 찍기 4 (◆)\n",
    "별 찍기 2를 f-string을 이용하여 풀어라.  \n",
    "<br>\n",
    "### hint\n",
    "`f'some string {var}'`이용"
   ]
  },
  {
   "cell_type": "code",
   "execution_count": null,
   "metadata": {},
   "outputs": [],
   "source": [
    "N = int(input('N : '))\n",
    "for i in range(N):\n",
    "    print(f'{\"*\"*(i+1):>{N}}')"
   ]
  },
  {
   "cell_type": "markdown",
   "metadata": {},
   "source": [
    "# 별 찍기 5\n",
    "N을 입력받아 아래와 같은 N층의 나무를 출력하는 코드를 작성해보자.  \n",
    "<br>\n",
    "\n",
    "### hint\n",
    "- **`str.format`,  f-string 사용금지!**  \n",
    "- 고등학교 때 배웠던 수열을 생각해보자!"
   ]
  },
  {
   "cell_type": "raw",
   "metadata": {},
   "source": [
    "N : 8\n",
    "       *       \n",
    "      ***      \n",
    "     *****     \n",
    "    *******    \n",
    "   *********   \n",
    "  ***********  \n",
    " ************* \n",
    "***************"
   ]
  },
  {
   "cell_type": "code",
   "execution_count": null,
   "metadata": {},
   "outputs": [],
   "source": [
    "N = int(input('N : '))\n",
    "for i in range(N):\n",
    "    # 별의 수 : 2i + 1\n",
    "    # 너비 : 2N - 1\n",
    "    # 양쪽 공백의 수 : (2N - 1)  - (2i + 1) = 2N - 2i - 2\n",
    "    print(' ' * (N - i - 1) + '*' * (2 * i + 1) + ' ' * (N - i - 1))"
   ]
  },
  {
   "cell_type": "markdown",
   "metadata": {},
   "source": [
    "# 소수 찾기 1\n",
    "2 이상의 자연수 N을 입력받아 N이 소수인지 판별하는 코드를 작성하여라.  \n",
    "<br>"
   ]
  },
  {
   "cell_type": "raw",
   "metadata": {},
   "source": [
    "# test1\n",
    "N : 23\n",
    "True\n",
    "\n",
    "# test2\n",
    "N : 12\n",
    "False"
   ]
  },
  {
   "cell_type": "code",
   "execution_count": null,
   "metadata": {},
   "outputs": [],
   "source": [
    "N = int(input('N : '))\n",
    "cnt = 0  # count 줄임말\n",
    "for i in range(2, N):\n",
    "    cnt += 1 if N % i == 0 else 0\n",
    "print('True') if cnt == 0 else print('False')  # 이 부분은 꼭 이렇게 쓸 필요는 없어요"
   ]
  },
  {
   "cell_type": "markdown",
   "metadata": {},
   "source": [
    "# 소수 찾기 2\n",
    "2 이상의 자연수 N을 입력받아 N 미만의 소수를 모두 출력하는 코드를 작성하여라.  \n",
    "<br>\n",
    "\n",
    "### hint\n",
    "- 입력하는 수는 무조건 자연수이니 다른 값이 들어올 걱정은 안 해도 된다.\n",
    "- 중첩된 for 문을 이용해보자."
   ]
  },
  {
   "cell_type": "raw",
   "metadata": {},
   "source": [
    "N : 50\n",
    "7\n",
    "11\n",
    "13\n",
    "17\n",
    "19\n",
    "23\n",
    "29\n",
    "31\n",
    "37\n",
    "41\n",
    "43\n",
    "47\n",
    "49"
   ]
  },
  {
   "cell_type": "code",
   "execution_count": null,
   "metadata": {},
   "outputs": [],
   "source": [
    "from math import sqrt\n",
    "\n",
    "N = int(input('N : '))\n",
    "for i in range(2, N):\n",
    "    cnt = 0\n",
    "    for j in range(2, round(sqrt(N))):  # sqrt : square root, 왜 sqrt(N)까지만 탐색할까요?\n",
    "        cnt += 1 if i % j == 0 else 0\n",
    "    print(i) if cnt == 0 else None"
   ]
  },
  {
   "cell_type": "markdown",
   "metadata": {},
   "source": [
    "# 소수 찾기 3 (★)\n",
    "다음은 1798년 르장드르가 발표한 소수정리이다.\n",
    "\n",
    "> 어떤 큰 자연수 $N$에 대하여 그 수가 소수일 확률은 ${1 \\over \\log N}$에 가깝다.  \n",
    "여기서 $\\log$는 자연로그이다.\n",
    "\n",
    "**이는 어떤 큰 자연수 $N$ 이하의 소수의 개수가 ${N \\over \\log N}$에 가깝다는 것과 같다.**  \n",
    "이를 증명해보자.\n",
    "\n",
    "### hint\n",
    "- 로그 계산은 `math`모듈의 `log`메소드를 이용한다.\n",
    "- 코드 첫 줄에 `from math import log`를 입력하면 `log`함수를 사용할 수 있다.\n",
    "- N은 십만 이상, 천만 이하의 큰 수를 입력한다. (그 이상 입력하면 오늘 안에 결과를 못 볼 수도 있다.)\n",
    "- 큰 수를 입력하고 나면 계산 시간이 수 초에서 수 분 정도 걸린다. (본인 백만개 2분) 기다리면 된다.\n",
    "- 출력 방식은 자유이다. 소수 개수와 ${N \\over \\log N}$이 비슷하다는 것을 보이면 된다."
   ]
  },
  {
   "cell_type": "raw",
   "metadata": {},
   "source": [
    "N : 1000000\n",
    "78330 72382.41365054197"
   ]
  },
  {
   "cell_type": "code",
   "execution_count": null,
   "metadata": {},
   "outputs": [],
   "source": [
    "from math import sqrt, log\n",
    "from IPython.core.display import clear_output  # 주피터에서 output을 지워주는 함수이다.\n",
    "\n",
    "num_of_prime_numbers = 0\n",
    "\n",
    "N = int(input('N : '))\n",
    "for i in range(2, N+1):\n",
    "    cnt = 0\n",
    "    for j in range(2, round(sqrt(N+1))):\n",
    "        cnt += 1 if i % j == 0 else 0\n",
    "    num_of_prime_numbers += 1 if cnt == 0 else 0\n",
    "    if i % 10000 == 0:\n",
    "        clear_output()\n",
    "        print(i)\n",
    "\n",
    "N_logN = N / log(N)\n",
    "print(num_of_prime_numbers, N_logN)"
   ]
  },
  {
   "cell_type": "markdown",
   "metadata": {},
   "source": [
    "# 자판기\n",
    "`while`을 이용하여 자판기를 만들어보자.  \n",
    "<br>\n",
    "### hint\n",
    "- 자연수 N을 받아 메뉴를 정한다.\n",
    "- 자판기에는 코카콜라, 사이다, 닥터페퍼가 있다.\n",
    "- 4를 입력하면 판매를 종료한다."
   ]
  },
  {
   "cell_type": "raw",
   "metadata": {},
   "source": [
    "1. 코카콜라\n",
    "2. 사이다\n",
    "3. 닥터페퍼\n",
    "4. 판매종료\n",
    "command : 1\n",
    "코카콜라를 뽑았습니다!\n",
    "1. 코카콜라\n",
    "2. 사이다\n",
    "3. 닥터페퍼\n",
    "4. 판매종료\n",
    "command : 2\n",
    "사이다를 뽑았습니다!\n",
    "1. 코카콜라\n",
    "2. 사이다\n",
    "3. 닥터페퍼\n",
    "4. 판매종료\n",
    "command : 3\n",
    "닥터페퍼를 뽑았습니다!\n",
    "1. 코카콜라\n",
    "2. 사이다\n",
    "3. 닥터페퍼\n",
    "4. 판매종료\n",
    "command : 4\n",
    "판매가 종료되었습니다."
   ]
  },
  {
   "cell_type": "code",
   "execution_count": 3,
   "metadata": {
    "collapsed": true
   },
   "outputs": [
    {
     "name": "stdout",
     "output_type": "stream",
     "text": [
      "1. 코카콜라\n",
      "2. 사이다\n",
      "3. 닥터페퍼\n",
      "4. 판매종료\n",
      "command : 1\n",
      "코카콜라를 뽑았습니다!\n",
      "1. 코카콜라\n",
      "2. 사이다\n",
      "3. 닥터페퍼\n",
      "4. 판매종료\n",
      "command : 2\n",
      "사이다를 뽑았습니다!\n",
      "1. 코카콜라\n",
      "2. 사이다\n",
      "3. 닥터페퍼\n",
      "4. 판매종료\n",
      "command : 3\n",
      "닥터페퍼를 뽑았습니다!\n",
      "1. 코카콜라\n",
      "2. 사이다\n",
      "3. 닥터페퍼\n",
      "4. 판매종료\n",
      "command : 4\n",
      "판매가 종료되었습니다.\n"
     ]
    }
   ],
   "source": [
    "menu = ['코카콜라', '사이다', '닥터페퍼', '판매종료']\n",
    "while True:\n",
    "    command = int(input('\\n'.join([f'{i+1}. {menu[i]}' for i in range(4)]) + '\\ncommand : '))\n",
    "    if command == 4:\n",
    "        print('판매가 종료되었습니다.')\n",
    "        break\n",
    "    else:\n",
    "        print(f'{menu[command-1]}를 뽑았습니다!')"
   ]
  }
 ],
 "metadata": {
  "kernelspec": {
   "display_name": "Python 3",
   "language": "python",
   "name": "python3"
  },
  "language_info": {
   "codemirror_mode": {
    "name": "ipython",
    "version": 3
   },
   "file_extension": ".py",
   "mimetype": "text/x-python",
   "name": "python",
   "nbconvert_exporter": "python",
   "pygments_lexer": "ipython3",
   "version": "3.6.8"
  }
 },
 "nbformat": 4,
 "nbformat_minor": 2
}

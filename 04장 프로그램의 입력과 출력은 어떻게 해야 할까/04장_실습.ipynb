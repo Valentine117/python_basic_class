{
 "cells": [
  {
   "cell_type": "markdown",
   "metadata": {},
   "source": [
    "# [04장 프로그램의 입력과 출력은 어떻게 해야 할까?] 실습\n",
    "<br>\n",
    "\n",
    "## 간단한 설띵\n",
    "\n",
    "- 문제 번호 옆에 ◆ 표시가 있으면 배우지 않은 내용이 등장하니 조금만 생각해보고 빨리 솔루션 보시는 걸 추천합니다.\n",
    "- 문제 번호 옆에 ★ 표시가 있으면 어려운 문제지만 풀 수 있습니다. 고민해보세요!\n",
    "- 문제 번호 옆에 ★★ 표시가 있으면 아주 어려운 문제입니다. 시간은 오래걸리지만 실력 향상에 아주 큰 도움이 됩니다.\n",
    "- 문제 푸는 순서는 상관 없습니다. 알아서 푸세요."
   ]
  },
  {
   "cell_type": "markdown",
   "metadata": {},
   "source": [
    "# 계산기를 냅두고....\n",
    "\n",
    "참공익인 효건이에게 구청에 제출된 영수증 합계가 맞는지 파이썬으로 확인하는 임무가 주어졌다. `receipts.txt`파일이 어떻게 생겼는지 분석하고 합계를 출력해라!  \n",
    "<br>\n",
    "\n",
    "### hint\n",
    "- 파일은 해당 폴더에 있습니다.\n",
    "\n",
    "<br>\n",
    "\n",
    "---\n",
    "목표 :\n",
    "\n",
    "출력  \n",
    "```\n",
    "6704360\n",
    "```"
   ]
  },
  {
   "cell_type": "code",
   "execution_count": null,
   "metadata": {},
   "outputs": [],
   "source": []
  },
  {
   "cell_type": "markdown",
   "metadata": {},
   "source": [
    "# 복합기\n",
    "\n",
    "더하기 또는 곱하기를 수행해주는 함수 `add_or_mul`을 작성하라.  \n",
    "<br>\n",
    "\n",
    "### hint\n",
    "- 입력인자는 `operator`를 포함한다.\n",
    "- 그 외 입력인자는 몇 개가 올지 모른다.\n",
    "- `operator`인자에 `'+'`가 들어가면 더하기를, `'*'`가 들어가면 곱하기를 수행해 출력한다.\n",
    "- `operator`인자에 다른 값이 들어가면 `'계산할 수 없음!'`을 출력한다.\n",
    "\n",
    "<br>\n",
    "\n",
    "---\n",
    "\n",
    "목표 : \n",
    "\n",
    "다음을 수행\n",
    "\n",
    "```python\n",
    "add_or_mul('+', 3, 5, 2, 6, 7)\n",
    "add_or_mul('*', 3, 5, 2, 6, 7)\n",
    "add_or_mul('m', 3, 5, 2, 6, 7)\n",
    "```\n",
    "\n",
    "출력  \n",
    "```\n",
    "23  \n",
    "1260  \n",
    "계산할 수 없음!  ```"
   ]
  },
  {
   "cell_type": "code",
   "execution_count": null,
   "metadata": {},
   "outputs": [],
   "source": []
  },
  {
   "cell_type": "code",
   "execution_count": null,
   "metadata": {},
   "outputs": [],
   "source": [
    "add_or_mul('+', 3, 5, 2, 6, 7)\n",
    "add_or_mul('*', 3, 5, 2, 6, 7)\n",
    "add_or_mul('m', 3, 5, 2, 6, 7)"
   ]
  },
  {
   "cell_type": "markdown",
   "metadata": {},
   "source": [
    "# 예쁘게 출력하기\n",
    "\n",
    "잘생긴 딥러닝 엔지니어인 승호는 오늘 저녁에 소개팅이 잡혀있다. 하지만 딥러닝 모델을 돌리는 도중 원하는 대로 결과가 나오지 않아 디버깅을 하고 있다.  \n",
    "디버깅 도중 다음과 같은 데이터를 얻었는데 보기가 힘들어 이를 예쁘게 출력하고 싶다.  \n",
    "승호가 소개팅에 늦지 않도록 도와주자!  \n",
    "<br>\n",
    "\n",
    "### hint\n",
    "- 소숫점이 찍힌 자리를 기준으로 오와 열을 맞춰 출력하세요!\n",
    "- string 포맷 코드를 이용하세요!\n",
    "\n",
    "<br>\n",
    "\n",
    "---\n",
    "\n",
    "목표 :  \n",
    "\n",
    "출력\n",
    "```\n",
    " 0.46422 -1.91552  0.82886 -2.33432 -0.62468  \n",
    "-0.47651  0.19079  0.74840 -0.22019  1.32850  \n",
    "-1.36891  0.83192 -0.51075 -0.34938 -0.56306  \n",
    "-1.90554 -0.04902 -0.57322  2.10130 -1.19484  \n",
    " 0.41643  1.14283 -0.06525  0.00279  1.70505  \n",
    "```"
   ]
  },
  {
   "cell_type": "code",
   "execution_count": null,
   "metadata": {},
   "outputs": [],
   "source": [
    "data = [[0.46421506, -1.91551838, 0.82885506, -2.33431535, -0.62468406], [-0.47651206, 0.19078899, 0.74840297, -0.22018561, 1.32850345], [-1.36891412, 0.83191974, -0.51074666, -0.34937646, -0.56306169], [-1.90553743, -0.04902305, -0.5732162, 2.10130145, -1.19484144], [0.41643332, 1.1428341, -0.06524806, 0.00279313, 1.7050512]]"
   ]
  },
  {
   "cell_type": "code",
   "execution_count": null,
   "metadata": {
    "scrolled": true
   },
   "outputs": [],
   "source": []
  },
  {
   "cell_type": "markdown",
   "metadata": {},
   "source": [
    "# 한글 파일 불러오기 (◆)\n",
    "\n",
    "`utdaein.txt`파일은 영어와 한글이 섞여져 있다.  \n",
    "컴퓨터가 한글을 표현하는 방법은 크게 두 가지가 있다. \n",
    "> - ANSI(=ASCII; cp949, euc-kr 등)  \n",
    "- Unicode(UTF-8 등)\n",
    "\n",
    "ASCII는 한글 한 글자를 2바이트로 저장한다. 예) '가'는 `'\\xb0a1'`로 표현한다.  \n",
    "Unicode는 한글 한 글자를 3바이트로 표현하지만 `'\\u'`를 이용하면 코드상에서 2바이트로 표현이 가능하다. 예) '가'는 `'\\uac00'`이다.  \n",
    "<br>\n",
    "\n",
    "메모장에서 한글을 입력하고 유니코드로 저장한 파일을 파이썬에서 그냥 열면 에러가 난다.\n",
    "```python\n",
    "---------------------------------------------------------------------------\n",
    "UnicodeDecodeError                        Traceback (most recent call last)\n",
    "<ipython-input-9-52e84e807935> in <module>\n",
    "      1 with open('utdaein.txt', 'r') as f:\n",
    "----> 2     print(f.read())\n",
    "\n",
    "UnicodeDecodeError: 'cp949' codec can't decode byte 0xed in position 0: illegal multibyte sequence\n",
    "```\n",
    "파이썬은 파일을 ASCII를 기반으로 해석하기 때문이다.  \n",
    "<br>\n",
    "\n",
    "이를 해결하는 방법은 두 가지가 있다.\n",
    "1. 바이너리 모드로 열기\n",
    "2. 유니코드로 변환하여 열기  \n",
    "<br><br>\n",
    "\n",
    "2번을 더 자주 쓰니 2번을 알아보자!  \n",
    "그냥 `open`함수에 `encoding='utf-8'` 인자만 추가해주면 된다.\n",
    "```python\n",
    "with open('utdaein.txt', 'r', encoding='utf-8') as f:\n",
    "    print(f.read())\n",
    "```\n",
    "\n",
    "자 이걸 이용해 '출발'이라는 단어가 파일에 몇 번 등장하는지 세보자!  \n",
    "<br>\n",
    "\n",
    "### hint \n",
    "- 문단을 단어 단위로 쪼개보자\n",
    "\n",
    "<br>\n",
    "\n",
    "---\n",
    "목표:\n",
    "\n",
    "출력  \n",
    "```python\n",
    "9\n",
    "```"
   ]
  },
  {
   "cell_type": "code",
   "execution_count": null,
   "metadata": {},
   "outputs": [],
   "source": []
  }
 ],
 "metadata": {
  "kernelspec": {
   "display_name": "Python 3",
   "language": "python",
   "name": "python3"
  },
  "language_info": {
   "codemirror_mode": {
    "name": "ipython",
    "version": 3
   },
   "file_extension": ".py",
   "mimetype": "text/x-python",
   "name": "python",
   "nbconvert_exporter": "python",
   "pygments_lexer": "ipython3",
   "version": "3.6.8"
  }
 },
 "nbformat": 4,
 "nbformat_minor": 2
}

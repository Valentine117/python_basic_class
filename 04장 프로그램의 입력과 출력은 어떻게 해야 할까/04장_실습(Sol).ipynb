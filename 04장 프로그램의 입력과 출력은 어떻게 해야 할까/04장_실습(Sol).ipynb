{
 "cells": [
  {
   "cell_type": "markdown",
   "metadata": {},
   "source": [
    "# [04장 프로그램의 입력과 출력은 어떻게 해야 할까?] 실습 솔루션\n",
    "<br>\n",
    "\n",
    "## 간단한 설띵\n",
    "\n",
    "- 문제 번호 옆에 ◆ 표시가 있으면 배우지 않은 내용이 등장하니 조금만 생각해보고 빨리 솔루션 보시는 걸 추천합니다.\n",
    "- 문제 번호 옆에 ★ 표시가 있으면 어려운 문제지만 풀 수 있습니다. 고민해보세요!\n",
    "- 문제 번호 옆에 ★★ 표시가 있으면 아주 어려운 문제입니다. 시간은 오래걸리지만 실력 향상에 아주 큰 도움이 됩니다.\n",
    "- 문제 푸는 순서는 상관 없습니다. 알아서 푸세요."
   ]
  },
  {
   "cell_type": "markdown",
   "metadata": {},
   "source": [
    "# 계산기를 냅두고....\n",
    "\n",
    "참공익인 효건이에게 구청에 제출된 영수증 합계가 맞는지 파이썬으로 확인하는 임무가 주어졌다. `receipts.txt`파일이 어떻게 생겼는지 분석하고 합계를 출력해라!  \n",
    "<br>\n",
    "\n",
    "### hint\n",
    "- 파일은 해당 폴더에 있습니다.\n",
    "\n",
    "<br>\n",
    "\n",
    "---\n",
    "목표 :\n",
    "\n",
    "출력  \n",
    "```\n",
    "6704360\n",
    "```"
   ]
  },
  {
   "cell_type": "code",
   "execution_count": null,
   "metadata": {},
   "outputs": [],
   "source": [
    "# Sol 계산기를 냅두고....\n",
    "with open('receipts.txt') as f:\n",
    "    data = [int(x) for x in f.read().strip().split('\\n')]\n",
    "print(sum(data))"
   ]
  },
  {
   "cell_type": "markdown",
   "metadata": {},
   "source": [
    "# 복합기\n",
    "\n",
    "더하기 또는 곱하기를 수행해주는 함수 `add_or_mul`을 작성하라.  \n",
    "<br>\n",
    "\n",
    "### hint\n",
    "- 입력인자는 `operator`를 포함한다.\n",
    "- 그 외 입력인자는 몇 개가 올지 모른다.\n",
    "- `operator`인자에 `'+'`가 들어가면 더하기를, `'*'`가 들어가면 곱하기를 수행해 출력한다.\n",
    "- `operator`인자에 다른 값이 들어가면 `'계산할 수 없음!'`을 출력한다.\n",
    "\n",
    "<br>\n",
    "\n",
    "---\n",
    "\n",
    "목표 : \n",
    "\n",
    "다음을 수행\n",
    "\n",
    "```python\n",
    "add_or_mul('+', 3, 5, 2, 6, 7)\n",
    "add_or_mul('*', 3, 5, 2, 6, 7)\n",
    "add_or_mul('m', 3, 5, 2, 6, 7)\n",
    "```\n",
    "\n",
    "출력  \n",
    "```\n",
    "23  \n",
    "1260  \n",
    "계산할 수 없음!  ```"
   ]
  },
  {
   "cell_type": "code",
   "execution_count": 29,
   "metadata": {},
   "outputs": [],
   "source": [
    "# Sol 복합기\n",
    "def add_or_mul(operator, *args):\n",
    "    if operator == '+':\n",
    "        print(sum(args))\n",
    "    elif operator == '*':\n",
    "        fact = 1\n",
    "        for arg in args:\n",
    "            fact *= arg\n",
    "        print(fact)\n",
    "    else:\n",
    "        print('계산할 수 없음!')"
   ]
  },
  {
   "cell_type": "code",
   "execution_count": 31,
   "metadata": {},
   "outputs": [
    {
     "name": "stdout",
     "output_type": "stream",
     "text": [
      "23\n",
      "1260\n",
      "계산할 수 없음!\n"
     ]
    }
   ],
   "source": [
    "add_or_mul('+', 3, 5, 2, 6, 7)\n",
    "add_or_mul('*', 3, 5, 2, 6, 7)\n",
    "add_or_mul('m', 3, 5, 2, 6, 7)"
   ]
  },
  {
   "cell_type": "markdown",
   "metadata": {},
   "source": [
    "# 예쁘게 출력하기\n",
    "\n",
    "잘생긴 딥러닝 엔지니어인 승호는 오늘 저녁에 소개팅이 잡혀있다. 하지만 딥러닝 모델을 돌리는 도중 원하는 대로 결과가 나오지 않아 디버깅을 하고 있다.  \n",
    "디버깅 도중 다음과 같은 데이터를 얻었는데 보기가 힘들어 이를 예쁘게 출력하고 싶다.  \n",
    "승호가 소개팅에 늦지 않도록 도와주자!  \n",
    "<br>\n",
    "\n",
    "### hint\n",
    "- 소숫점이 찍힌 자리를 기준으로 오와 열을 맞춰 출력하세요!\n",
    "- string 포맷 코드를 이용하세요!\n",
    "\n",
    "<br>\n",
    "\n",
    "---\n",
    "\n",
    "목표 :  \n",
    "\n",
    "출력\n",
    "```\n",
    " 0.46422 -1.91552  0.82886 -2.33432 -0.62468  \n",
    "-0.47651  0.19079  0.74840 -0.22019  1.32850  \n",
    "-1.36891  0.83192 -0.51075 -0.34938 -0.56306  \n",
    "-1.90554 -0.04902 -0.57322  2.10130 -1.19484  \n",
    " 0.41643  1.14283 -0.06525  0.00279  1.70505  \n",
    "```"
   ]
  },
  {
   "cell_type": "code",
   "execution_count": 14,
   "metadata": {},
   "outputs": [],
   "source": [
    "data = [[0.46421506, -1.91551838, 0.82885506, -2.33431535, -0.62468406], [-0.47651206, 0.19078899, 0.74840297, -0.22018561, 1.32850345], [-1.36891412, 0.83191974, -0.51074666, -0.34937646, -0.56306169], [-1.90553743, -0.04902305, -0.5732162, 2.10130145, -1.19484144], [0.41643332, 1.1428341, -0.06524806, 0.00279313, 1.7050512]]"
   ]
  },
  {
   "cell_type": "code",
   "execution_count": 19,
   "metadata": {
    "scrolled": true
   },
   "outputs": [
    {
     "name": "stdout",
     "output_type": "stream",
     "text": [
      " 0.46422 -1.91552  0.82886 -2.33432 -0.62468 \n",
      "-0.47651  0.19079  0.74840 -0.22019  1.32850 \n",
      "-1.36891  0.83192 -0.51075 -0.34938 -0.56306 \n",
      "-1.90554 -0.04902 -0.57322  2.10130 -1.19484 \n",
      " 0.41643  1.14283 -0.06525  0.00279  1.70505 \n"
     ]
    }
   ],
   "source": [
    "# Sol 예쁘게 출력하기\n",
    "for row in data:\n",
    "    for datum in row:\n",
    "        print(f'{datum:8.5f}', end=' ')\n",
    "    print()"
   ]
  },
  {
   "cell_type": "markdown",
   "metadata": {},
   "source": [
    "# "
   ]
  },
  {
   "cell_type": "code",
   "execution_count": 32,
   "metadata": {},
   "outputs": [
    {
     "name": "stdout",
     "output_type": "stream",
     "text": [
      "b'16170\\n36000\\n178200\\n34960\\n953860\\n142620\\n51940\\n68580\\n114040\\n363200\\n813400\\n101000\\n7100\\n41700\\n125130\\n710\\n51300\\n606660\\n177020\\n1227580\\n34710\\n233700\\n3720\\n36000\\n216450\\n79320\\n4140\\n26320\\n171960\\n34270\\n60380\\n540850\\n38890\\n17790\\n94690\\n'\n"
     ]
    }
   ],
   "source": [
    "with open('receipts.txt', 'rb') as f:\n",
    "    print(f.read())"
   ]
  },
  {
   "cell_type": "markdown",
   "metadata": {},
   "source": [
    "한글이 써지지 않다 utdaein의 도움 필요\n",
    "갑작스럽게 쓰여지지 않다 한글\n",
    "몇몇의 많은 방법 이용 그러나 실패한\n",
    "그래서 결국 핸드폰의 한글을 영어로 번역하여 컴퓨터로 옮긴 뒤 다시 번역해\n",
    "ctrl c+v 하여 사용합니다.\n",
    "2날 째 같은 증상 지속\n",
    "나의 심정 매우 혼란 그리고 흥분\n",
    "오, 흥분이 아니라 흥분\n",
    "번역기 매우 이상함! 흥분! 흥분이다! 흥분이 아닙니다! 출발!\n",
    "출발이 아닙니다! 출발! 출발! 출발!\n",
    "출발이 아니라 sibal! sibal!\n",
    "지금 매우 심정이 jott 비슷합니다.\n",
    "열정적일것 같습니다.\n",
    "아니다! 열정적인 것이 아닙니다. 열어적입니다.\n",
    "열정적임이 아니라 crazy! crazy 됩니다!\n",
    "utdaein. 전 당장 utdaein의 도움이 필요합니다!\n",
    "제발 도움 주세요! 아니야! 도움이 아니라 도움!!\n",
    "dowa! dowa 주세요!\n",
    "오, 정말 번역기 출발새끼. 출발새끼 아닙니다! 출발새끼!\n",
    "sibal sakki! sibal sakki! 번역하다 sibal saki!!!!"
   ]
  }
 ],
 "metadata": {
  "kernelspec": {
   "display_name": "Python 3",
   "language": "python",
   "name": "python3"
  },
  "language_info": {
   "codemirror_mode": {
    "name": "ipython",
    "version": 3
   },
   "file_extension": ".py",
   "mimetype": "text/x-python",
   "name": "python",
   "nbconvert_exporter": "python",
   "pygments_lexer": "ipython3",
   "version": "3.7.1"
  }
 },
 "nbformat": 4,
 "nbformat_minor": 2
}
